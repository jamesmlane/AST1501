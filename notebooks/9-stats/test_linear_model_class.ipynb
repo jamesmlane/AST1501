{
 "cells": [
  {
   "cell_type": "code",
   "execution_count": 4,
   "metadata": {},
   "outputs": [],
   "source": [
    "# ----------------------------------------------------------------------------\n",
    "#\n",
    "# TITLE - linear_model_prior.ipynb\n",
    "# AUTHOR - James Lane\n",
    "# PROJECT - AST 1501\n",
    "#\n",
    "# ----------------------------------------------------------------------------\n",
    "#\n",
    "# Docstrings and metadata:\n",
    "'''Determine the best-fitting linear model with the addition of a prior. Compare to \n",
    "data from other sources\n",
    "'''\n",
    "\n",
    "__author__ = \"James Lane\""
   ]
  },
  {
   "cell_type": "code",
   "execution_count": 6,
   "metadata": {},
   "outputs": [],
   "source": [
    "# General\n",
    "import numpy as np\n",
    "import pdb, sys, importlib, copy, importlib\n",
    "from tqdm import tqdm_notebook\n",
    "\n",
    "## Plotting\n",
    "import matplotlib\n",
    "from matplotlib import pyplot as plt\n",
    "from matplotlib import animation\n",
    "from matplotlib import colors\n",
    "from matplotlib import cm\n",
    "\n",
    "## Astropy\n",
    "from astropy import units as apu\n",
    "from astropy.io import fits\n",
    "from astropy.table import Table\n",
    "\n",
    "## Scipy\n",
    "from scipy.stats import binned_statistic_2d, binned_statistic\n",
    "from scipy.optimize import curve_fit\n",
    "from scipy import linalg\n",
    "import scipy as sc\n",
    "\n",
    "## Galpy\n",
    "from galpy import potential\n",
    "\n",
    "## Add project-specific package. Assume relative location\n",
    "sys.path.append('../../src/')\n",
    "import ast1501.util\n",
    "import ast1501.fourier\n",
    "import ast1501.df\n",
    "import ast1501.linear_model"
   ]
  },
  {
   "cell_type": "code",
   "execution_count": 20,
   "metadata": {},
   "outputs": [
    {
     "name": "stdout",
     "output_type": "stream",
     "text": [
      "Automatic pdb calling has been turned ON\n"
     ]
    }
   ],
   "source": [
    "### Matplotlib for notebooks\n",
    "%matplotlib inline\n",
    "%config InlineBackend.figure_format = 'retina'\n",
    "\n",
    "### Debugging, automatically drop in during error\n",
    "%pdb\n",
    "from IPython.core.debugger import set_trace"
   ]
  },
  {
   "cell_type": "markdown",
   "metadata": {},
   "source": [
    "# Meta\n",
    "\n",
    "## Information:\n",
    "\n",
    "## Future Work:"
   ]
  },
  {
   "cell_type": "markdown",
   "metadata": {},
   "source": [
    "Test the new ```LinearModel``` class"
   ]
  },
  {
   "cell_type": "markdown",
   "metadata": {},
   "source": [
    "# Prepare"
   ]
  },
  {
   "cell_type": "markdown",
   "metadata": {},
   "source": [
    "## Load Data"
   ]
  },
  {
   "cell_type": "code",
   "execution_count": 18,
   "metadata": {},
   "outputs": [
    {
     "name": "stdout",
     "output_type": "stream",
     "text": [
      "--Return--\n",
      "None\n",
      "> \u001b[0;32m<ipython-input-18-be36623d4054>\u001b[0m(26)\u001b[0;36m<module>\u001b[0;34m()\u001b[0m\n",
      "\u001b[0;32m     24 \u001b[0;31m\u001b[0mgc_vz\u001b[0m \u001b[0;34m=\u001b[0m \u001b[0mdata_low_z\u001b[0m\u001b[0;34m[\u001b[0m\u001b[0;34m'VZ'\u001b[0m\u001b[0;34m]\u001b[0m\u001b[0;34m\u001b[0m\u001b[0m\n",
      "\u001b[0m\u001b[0;32m     25 \u001b[0;31m\u001b[0;34m\u001b[0m\u001b[0m\n",
      "\u001b[0m\u001b[0;32m---> 26 \u001b[0;31m\u001b[0mset_trace\u001b[0m\u001b[0;34m(\u001b[0m\u001b[0;34m)\u001b[0m\u001b[0;34m\u001b[0m\u001b[0m\n",
      "\u001b[0m\u001b[0;32m     27 \u001b[0;31m\u001b[0;34m\u001b[0m\u001b[0m\n",
      "\u001b[0m\u001b[0;32m     28 \u001b[0;31m\u001b[0;31m### Convert to galactocentric radius and radial velocity\u001b[0m\u001b[0;34m\u001b[0m\u001b[0;34m\u001b[0m\u001b[0m\n",
      "\u001b[0m\n",
      "ipdb> gc_vz\n",
      "array([  0.69913678,  -7.91657268,   8.59446153, ..., -13.48461682,\n",
      "         7.08558581, -17.71964389])\n",
      "ipdb> q\n"
     ]
    },
    {
     "ename": "BdbQuit",
     "evalue": "",
     "output_type": "error",
     "traceback": [
      "\u001b[0;31m---------------------------------------------------------------------------\u001b[0m",
      "\u001b[0;31mBdbQuit\u001b[0m                                   Traceback (most recent call last)",
      "\u001b[0;32m<ipython-input-18-be36623d4054>\u001b[0m in \u001b[0;36m<module>\u001b[0;34m()\u001b[0m\n\u001b[1;32m     24\u001b[0m \u001b[0mgc_vz\u001b[0m \u001b[0;34m=\u001b[0m \u001b[0mdata_low_z\u001b[0m\u001b[0;34m[\u001b[0m\u001b[0;34m'VZ'\u001b[0m\u001b[0;34m]\u001b[0m\u001b[0;34m\u001b[0m\u001b[0m\n\u001b[1;32m     25\u001b[0m \u001b[0;34m\u001b[0m\u001b[0m\n\u001b[0;32m---> 26\u001b[0;31m \u001b[0mset_trace\u001b[0m\u001b[0;34m(\u001b[0m\u001b[0;34m)\u001b[0m\u001b[0;34m\u001b[0m\u001b[0m\n\u001b[0m\u001b[1;32m     27\u001b[0m \u001b[0;34m\u001b[0m\u001b[0m\n\u001b[1;32m     28\u001b[0m \u001b[0;31m### Convert to galactocentric radius and radial velocity\u001b[0m\u001b[0;34m\u001b[0m\u001b[0;34m\u001b[0m\u001b[0m\n",
      "\u001b[0;32m~/Software/Python/anaconda3/envs/ast1501-dev/lib/python3.6/bdb.py\u001b[0m in \u001b[0;36mtrace_dispatch\u001b[0;34m(self, frame, event, arg)\u001b[0m\n\u001b[1;32m     50\u001b[0m             \u001b[0;32mreturn\u001b[0m \u001b[0mself\u001b[0m\u001b[0;34m.\u001b[0m\u001b[0mdispatch_call\u001b[0m\u001b[0;34m(\u001b[0m\u001b[0mframe\u001b[0m\u001b[0;34m,\u001b[0m \u001b[0marg\u001b[0m\u001b[0;34m)\u001b[0m\u001b[0;34m\u001b[0m\u001b[0m\n\u001b[1;32m     51\u001b[0m         \u001b[0;32mif\u001b[0m \u001b[0mevent\u001b[0m \u001b[0;34m==\u001b[0m \u001b[0;34m'return'\u001b[0m\u001b[0;34m:\u001b[0m\u001b[0;34m\u001b[0m\u001b[0m\n\u001b[0;32m---> 52\u001b[0;31m             \u001b[0;32mreturn\u001b[0m \u001b[0mself\u001b[0m\u001b[0;34m.\u001b[0m\u001b[0mdispatch_return\u001b[0m\u001b[0;34m(\u001b[0m\u001b[0mframe\u001b[0m\u001b[0;34m,\u001b[0m \u001b[0marg\u001b[0m\u001b[0;34m)\u001b[0m\u001b[0;34m\u001b[0m\u001b[0m\n\u001b[0m\u001b[1;32m     53\u001b[0m         \u001b[0;32mif\u001b[0m \u001b[0mevent\u001b[0m \u001b[0;34m==\u001b[0m \u001b[0;34m'exception'\u001b[0m\u001b[0;34m:\u001b[0m\u001b[0;34m\u001b[0m\u001b[0m\n\u001b[1;32m     54\u001b[0m             \u001b[0;32mreturn\u001b[0m \u001b[0mself\u001b[0m\u001b[0;34m.\u001b[0m\u001b[0mdispatch_exception\u001b[0m\u001b[0;34m(\u001b[0m\u001b[0mframe\u001b[0m\u001b[0;34m,\u001b[0m \u001b[0marg\u001b[0m\u001b[0;34m)\u001b[0m\u001b[0;34m\u001b[0m\u001b[0m\n",
      "\u001b[0;32m~/Software/Python/anaconda3/envs/ast1501-dev/lib/python3.6/bdb.py\u001b[0m in \u001b[0;36mdispatch_return\u001b[0;34m(self, frame, arg)\u001b[0m\n\u001b[1;32m     94\u001b[0m             \u001b[0;32mfinally\u001b[0m\u001b[0;34m:\u001b[0m\u001b[0;34m\u001b[0m\u001b[0m\n\u001b[1;32m     95\u001b[0m                 \u001b[0mself\u001b[0m\u001b[0;34m.\u001b[0m\u001b[0mframe_returning\u001b[0m \u001b[0;34m=\u001b[0m \u001b[0;32mNone\u001b[0m\u001b[0;34m\u001b[0m\u001b[0m\n\u001b[0;32m---> 96\u001b[0;31m             \u001b[0;32mif\u001b[0m \u001b[0mself\u001b[0m\u001b[0;34m.\u001b[0m\u001b[0mquitting\u001b[0m\u001b[0;34m:\u001b[0m \u001b[0;32mraise\u001b[0m \u001b[0mBdbQuit\u001b[0m\u001b[0;34m\u001b[0m\u001b[0m\n\u001b[0m\u001b[1;32m     97\u001b[0m             \u001b[0;31m# The user issued a 'next' or 'until' command.\u001b[0m\u001b[0;34m\u001b[0m\u001b[0;34m\u001b[0m\u001b[0m\n\u001b[1;32m     98\u001b[0m             \u001b[0;32mif\u001b[0m \u001b[0mself\u001b[0m\u001b[0;34m.\u001b[0m\u001b[0mstopframe\u001b[0m \u001b[0;32mis\u001b[0m \u001b[0mframe\u001b[0m \u001b[0;32mand\u001b[0m \u001b[0mself\u001b[0m\u001b[0;34m.\u001b[0m\u001b[0mstoplineno\u001b[0m \u001b[0;34m!=\u001b[0m \u001b[0;34m-\u001b[0m\u001b[0;36m1\u001b[0m\u001b[0;34m:\u001b[0m\u001b[0;34m\u001b[0m\u001b[0m\n",
      "\u001b[0;31mBdbQuit\u001b[0m: "
     ]
    }
   ],
   "source": [
    "### Load catalogs\n",
    "gaiadr2_apogee_catalog = '../../data/generated/gaiadr2-apogee_dataset.FIT'\n",
    "f = fits.open(gaiadr2_apogee_catalog)\n",
    "data = f[1].data\n",
    "\n",
    "### Cut on galactocentric absolute Z < 0.3 kpc\n",
    "where_low_z = np.where( np.abs(data['Z']) < 0.3 )[0]\n",
    "data_low_z = data[where_low_z] \n",
    "z_select_text = r'$|$Z$_{GC}| < 0.3$ kpc'\n",
    "\n",
    "### Read catalog values\n",
    "\n",
    "# ID, RA, Dec, logg, abundances, errors\n",
    "apid = data_low_z['APOGEE_ID']\n",
    "locid = data_low_z['LOCATION_ID']\n",
    "vhelio = data_low_z['VHELIO']\n",
    "pmll = data_low_z['PM_LL']\n",
    "pmbb = data_low_z['PM_BB']\n",
    "gc_x = data_low_z['X']\n",
    "gc_y = data_low_z['Y']\n",
    "gc_z = data_low_z['Z']\n",
    "gc_vx = data_low_z['VX']\n",
    "gc_vy = data_low_z['VY']\n",
    "gc_vz = data_low_z['VZ']\n",
    "\n",
    "%%debug\n",
    "\n",
    "### Convert to galactocentric radius and radial velocity\n",
    "gc_R = np.sqrt(np.square(gc_x)+np.square(gc_y))\n",
    "gc_phi = np.arctan2(gc_y,gc_x)\n",
    "gc_vR = np.cos(gc_phi)*gc_vx + np.sin(gc_phi)*gc_vy\n",
    "gc_vT = np.sin(gc_phi)*gc_vx - np.cos(gc_phi)*gc_vy\n",
    "gc_phi = np.arctan2(gc_y,-gc_x)"
   ]
  },
  {
   "cell_type": "markdown",
   "metadata": {},
   "source": [
    "## Set Parameters"
   ]
  },
  {
   "cell_type": "code",
   "execution_count": null,
   "metadata": {},
   "outputs": [],
   "source": [
    "# Radial bin range and size\n",
    "R_lim = [12,15]\n",
    "R_bin_size = 0.75\n",
    "R_bin_cents = np.arange( R_lim[0], R_lim[1], R_bin_size ) + R_bin_size/2\n",
    "\n",
    "# Phi bin range and size\n",
    "phi_lim = [-np.pi/2, np.pi/2]\n",
    "phi_bin_size = np.pi/30\n",
    "phi_bin_cents = np.arange( phi_lim[0], phi_lim[1], phi_bin_size ) + phi_bin_size/2\n",
    "\n",
    "# Phib bin range and size\n",
    "phib_lim = [-np.pi/4, np.pi/4]\n",
    "phib_bin_size = np.pi/60\n",
    "phib_bin_cents = np.arange( phib_lim[0], phib_lim[1], phib_bin_size ) + phib_bin_size/2\n"
   ]
  },
  {
   "cell_type": "markdown",
   "metadata": {},
   "source": [
    "## Try and initialize the class"
   ]
  },
  {
   "cell_type": "markdown",
   "metadata": {},
   "source": [
    "### Load using Gaia data"
   ]
  },
  {
   "cell_type": "code",
   "execution_count": null,
   "metadata": {},
   "outputs": [],
   "source": []
  },
  {
   "cell_type": "code",
   "execution_count": null,
   "metadata": {},
   "outputs": [],
   "source": [
    "importlib.reload(ast1501.linear_model)"
   ]
  },
  {
   "cell_type": "code",
   "execution_count": null,
   "metadata": {},
   "outputs": [],
   "source": [
    "lm1 = ast1501.linear_model.LinearModel(instantiate_method=1, gc_R=gc_R, \n",
    "    gc_phi=gc_phi, gc_vR=gc_vR, gc_vT=gc_vT, R_lims=R_lim, \n",
    "    R_bin_size=R_bin_size, phi_lims=phi_lim, \n",
    "    phi_bin_size=phi_bin_size, phib_lims=phib_lim, n_bs=100,\n",
    "    phib_bin_size=phib_bin_size, force_yint_zero_vR=False, use_velocities=['vR','vT'])\n"
   ]
  },
  {
   "cell_type": "code",
   "execution_count": null,
   "metadata": {},
   "outputs": [],
   "source": [
    "lm1.phiB"
   ]
  },
  {
   "cell_type": "code",
   "execution_count": null,
   "metadata": {},
   "outputs": [],
   "source": [
    "fig, axs = lm1.plot_vRvT_known_m_b_phi(phi_lim=[-np.pi/4,np.pi/2])\n",
    "plt.show()\n",
    "plt.close('all')"
   ]
  },
  {
   "cell_type": "code",
   "execution_count": null,
   "metadata": {},
   "outputs": [],
   "source": [
    "plot_kws={'ecolor':'Black','marker':'o','markeredgecolor':'Black','color':'Black','markersize':10,\n",
    "          'markerfacecolor':'None','capsize':5,'fmt':'o'}\n",
    "fig, axs = lm1.plot_vRvT_m_r(plot_kws=plot_kws)\n",
    "plt.show()\n",
    "plt.close('all')"
   ]
  },
  {
   "cell_type": "markdown",
   "metadata": {},
   "source": [
    "### Load using DF velocity field filename"
   ]
  },
  {
   "cell_type": "code",
   "execution_count": null,
   "metadata": {},
   "outputs": [],
   "source": []
  },
  {
   "cell_type": "code",
   "execution_count": null,
   "metadata": {},
   "outputs": [],
   "source": [
    "importlib.reload(ast1501.linear_model)"
   ]
  },
  {
   "cell_type": "code",
   "execution_count": null,
   "metadata": {},
   "outputs": [],
   "source": [
    "lm_sfb = ast1501.linear_model.LinearModel(instantiate_method=2, \n",
    "    df_filename='../../scripts/generate_bar_df/2019-05-20/data.npy', phib_bin_size=phib_bin_size,\n",
    "    phib_lims=phib_lim)\n",
    "lm_lsb = ast1501.linear_model.LinearModel(instantiate_method=2, \n",
    "        df_filename='../../scripts/generate_lsbar_df/2019-05-27/data.npy', phib_bin_size=phib_bin_size,\n",
    "    phib_lims=phib_lim)\n",
    "lm_th = ast1501.linear_model.LinearModel(instantiate_method=2, \n",
    "        df_filename='../../scripts/generate_triaxial_df/2019-03-30/data0.npy', phib_bin_size=phib_bin_size,\n",
    "    phib_lims=phib_lim)"
   ]
  },
  {
   "cell_type": "code",
   "execution_count": null,
   "metadata": {},
   "outputs": [],
   "source": [
    "fig, axs = lm_sfb.plot_vRvT_known_m_b_phi()\n",
    "\n",
    "plt.show()\n",
    "plt.close('all')"
   ]
  },
  {
   "cell_type": "code",
   "execution_count": null,
   "metadata": {},
   "outputs": [],
   "source": [
    "fig, axs = lm_lsb.plot_vRvT_known_m_b_phi()\n",
    "\n",
    "plt.show()\n",
    "plt.close('all')"
   ]
  },
  {
   "cell_type": "code",
   "execution_count": null,
   "metadata": {},
   "outputs": [],
   "source": [
    "fig, axs = lm_th.plot_vRvT_known_m_b_phi()\n",
    "\n",
    "plt.show()\n",
    "plt.close('all')"
   ]
  },
  {
   "cell_type": "code",
   "execution_count": null,
   "metadata": {},
   "outputs": [],
   "source": [
    "ms=20\n",
    "\n",
    "# sfb_plot_kws={'ecolor':'Red','marker':'o','markeredgecolor':'Red','color':'Red',\n",
    "#               'markersize':7,'markerfacecolor':'None','capsize':2,'fmt':'o'}\n",
    "sfb_plot_kws={'marker':'o','edgecolor':'Red', 's':ms, 'facecolor':'Red'}\n",
    "fig, axs = lm_sfb.plot_vRvT_m_r(plot_kws=sfb_plot_kws, plot_type='scatter')\n",
    "\n",
    "# lsb_plot_kws={'ecolor':'DodgerBlue','marker':'o','markeredgecolor':'DodgerBlue','color':'DodgerBlue',\n",
    "#               'markersize':7, 'markerfacecolor':'None','capsize':2,'fmt':'o'}\n",
    "lsb_plot_kws={'marker':'o','edgecolor':'DodgerBlue', 's':ms, 'facecolor':'DodgerBlue'}\n",
    "fig, axs = lm_lsb.plot_vRvT_m_r(plot_kws=lsb_plot_kws, fig=fig, axs=axs, plot_type='scatter')\n",
    "\n",
    "# th_plot_kws={'ecolor':'Black','marker':'o','markeredgecolor':'Black','color':'Black',\n",
    "#               'markersize':7, 'markerfacecolor':'None','capsize':2,'fmt':'o'}\n",
    "th_plot_kws={'marker':'o','edgecolor':'Black', 's':ms, 'facecolor':'None'}\n",
    "fig, axs = lm_th.plot_vRvT_m_r(plot_kws=th_plot_kws, fig=fig, axs=axs, plot_type='scatter')\n",
    "\n",
    "axs[1,0].scatter([],[],color='Red',label='SFB')\n",
    "axs[1,0].scatter([],[],color='DodgerBlue',label='LSB')\n",
    "axs[1,0].scatter([],[],color='Black',label='TH, b/a=0.9')\n",
    "axs[1,0].legend()\n",
    "\n",
    "plt.show()\n",
    "plt.close('all')"
   ]
  }
 ],
 "metadata": {
  "kernelspec": {
   "display_name": "Python 3",
   "language": "python",
   "name": "python3"
  },
  "language_info": {
   "codemirror_mode": {
    "name": "ipython",
    "version": 3
   },
   "file_extension": ".py",
   "mimetype": "text/x-python",
   "name": "python",
   "nbconvert_exporter": "python",
   "pygments_lexer": "ipython3",
   "version": "3.6.3"
  }
 },
 "nbformat": 4,
 "nbformat_minor": 2
}
