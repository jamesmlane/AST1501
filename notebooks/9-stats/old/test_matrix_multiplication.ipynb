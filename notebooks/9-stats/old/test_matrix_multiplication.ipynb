{
 "cells": [
  {
   "cell_type": "code",
   "execution_count": 1,
   "metadata": {},
   "outputs": [],
   "source": [
    "# ----------------------------------------------------------------------------\n",
    "#\n",
    "# TITLE - test_matrix_multiplication.ipynb\n",
    "# AUTHOR - James Lane\n",
    "# PROJECT - AST 1501\n",
    "#\n",
    "# ----------------------------------------------------------------------------\n",
    "#\n",
    "# Docstrings and metadata:\n",
    "'''Make sure the prior on our halo angle works like expected by testing out matrix multiplication in python \n",
    "with Hogg+ 2010 data.\n",
    "'''\n",
    "\n",
    "__author__ = \"James Lane\""
   ]
  },
  {
   "cell_type": "code",
   "execution_count": 2,
   "metadata": {},
   "outputs": [],
   "source": [
    "import numpy as np\n",
    "from scipy import linalg\n",
    "import scipy as sc\n",
    "from astropy.table import Table\n",
    "from matplotlib import pyplot as plt\n",
    "import pdb"
   ]
  },
  {
   "cell_type": "markdown",
   "metadata": {},
   "source": [
    "# Prepare"
   ]
  },
  {
   "cell_type": "code",
   "execution_count": 3,
   "metadata": {},
   "outputs": [
    {
     "name": "stdout",
     "output_type": "stream",
     "text": [
      "20\n"
     ]
    }
   ],
   "source": [
    "# Read Hogg+ 2010 data.\n",
    "data = np.genfromtxt('hogg_2010.dat', comments='#', delimiter=' & ')\n",
    "xs = data[:,1]\n",
    "ys = data[:,2]\n",
    "ysigs = data[:,3]\n",
    "ndata = len(xs)\n",
    "print(ndata)"
   ]
  },
  {
   "cell_type": "code",
   "execution_count": 4,
   "metadata": {},
   "outputs": [],
   "source": [
    "# Make arrays\n",
    "Y = np.zeros((ndata,1)) # A column vector\n",
    "A = np.zeros((ndata,2)) # An Nx2 matrix\n",
    "C = np.zeros((ndata,ndata)) # An NxN matrix\n",
    "\n",
    "# Fill arrays\n",
    "for i in range( ndata ):\n",
    "    Y[i] = ys[i]\n",
    "    A[i,0] = 1\n",
    "    A[i,1] = xs[i]\n",
    "    C[i,i] = ysigs[i]**2\n",
    "###i"
   ]
  },
  {
   "cell_type": "code",
   "execution_count": 5,
   "metadata": {},
   "outputs": [
    {
     "name": "stdout",
     "output_type": "stream",
     "text": [
      "(20, 1)\n",
      "(20, 2)\n",
      "(20, 20)\n"
     ]
    }
   ],
   "source": [
    "# Make sure everything has the right shape\n",
    "print(Y.shape)\n",
    "print(A.shape)\n",
    "print(C.shape)"
   ]
  },
  {
   "cell_type": "code",
   "execution_count": 6,
   "metadata": {},
   "outputs": [],
   "source": [
    "# Make some convenience matrices\n",
    "C_inv = np.linalg.inv(C)"
   ]
  },
  {
   "cell_type": "markdown",
   "metadata": {},
   "source": [
    "# Calculizzle"
   ]
  },
  {
   "cell_type": "markdown",
   "metadata": {},
   "source": [
    "First calculate $X$, the column vector containing $b,m$ which are the best-fitting parameters for the linear profile $y=mx+b$\n",
    "\n",
    "The equation is:\n",
    "\n",
    "$\n",
    "X = [A^{T}C^{-1}A]^{-1}[A^{T}C^{-1}Y]\n",
    "$\n",
    "\n",
    "First compute $A^{T}C^{-1}Y$"
   ]
  },
  {
   "cell_type": "code",
   "execution_count": 7,
   "metadata": {},
   "outputs": [],
   "source": [
    "rt = np.matmul( A.T, np.matmul( C_inv, Y ) )"
   ]
  },
  {
   "cell_type": "markdown",
   "metadata": {},
   "source": [
    "Now compute $[A^{T}C^{-1}A]^{-1}$"
   ]
  },
  {
   "cell_type": "code",
   "execution_count": 8,
   "metadata": {},
   "outputs": [],
   "source": [
    "lt = np.linalg.inv( np.matmul( A.T, np.matmul( C_inv, A ) ) )"
   ]
  },
  {
   "cell_type": "markdown",
   "metadata": {},
   "source": [
    "Calculate the final product: $[b,m]$"
   ]
  },
  {
   "cell_type": "code",
   "execution_count": 9,
   "metadata": {},
   "outputs": [
    {
     "name": "stdout",
     "output_type": "stream",
     "text": [
      "[[213.27349198]\n",
      " [  1.07674752]]\n",
      "[14.39403311  0.07740678]\n"
     ]
    }
   ],
   "source": [
    "X = np.matmul( lt, rt )\n",
    "print(X)\n",
    "print( np.sqrt( np.diag(lt) ) )"
   ]
  },
  {
   "cell_type": "markdown",
   "metadata": {},
   "source": [
    "# Test linear model\n",
    "The solution to $p(\\phi_{b}|Data)$ seems strange, so we'll have to check it with the Hogg data.\n",
    "\n",
    "We have that:\n",
    "$\n",
    "\\chi^{2} = Y^{T}C^{-1}Y - Y^{T}C^{-1}AX -X^{T}A^{T}C^{-1}Y + X^{T}A^{T}C^{-1}AX\n",
    "$\n",
    "\n",
    "and we would like to match it to the form:\n",
    "$\n",
    "\\eta^{2} = W^{T}V^{-1}W - W^{T}V^{-1}X - X^{T}V^{-1}W + X^{T}V^{-1}X\n",
    "$\n",
    "\n",
    "With the apparent solution being: $ V^{-1} = A^{T}C^{-1}A $, $W^{T} = Y^{T}C^{-1}A[A^{T}C^{-1}A]^{-1}$, $W = [A^{T}C^{-1}A]^{-1}A^{T}C^{-1}Y$.\n",
    "\n",
    "There is also a hanging term $U = Y^{T}C^{-1}[Y-AW]$\n",
    "\n",
    "Let's calculate these terms and see if these equations match."
   ]
  },
  {
   "cell_type": "code",
   "execution_count": 13,
   "metadata": {},
   "outputs": [],
   "source": [
    "# First calculate chi square term\n",
    "ct1 = np.linalg.multi_dot( [Y.T,C_inv,Y] )\n",
    "ct2 = np.linalg.multi_dot( [Y.T,C_inv,A,X] )\n",
    "ct3 = np.linalg.multi_dot( [X.T,A.T,C_inv,Y] )\n",
    "ct4 = np.linalg.multi_dot( [X.T,A.T,C_inv,A,X] )\n",
    "\n",
    "chisq = ct1 - ct2 - ct3 + ct4"
   ]
  },
  {
   "cell_type": "code",
   "execution_count": 14,
   "metadata": {},
   "outputs": [],
   "source": [
    "# calculate the new variables\n",
    "V_inv = np.linalg.multi_dot( [ A.T, C_inv, A ] )\n",
    "W = np.matmul( np.linalg.inv( np.linalg.multi_dot( [A.T,C_inv,A] ) ), np.linalg.multi_dot( [A.T,C_inv,Y] ) )\n",
    "W_T = np.matmul( np.linalg.multi_dot( [Y.T,C_inv,A] ), np.linalg.inv( np.linalg.multi_dot( [A.T,C_inv,A] ) ) )\n",
    "\n",
    "# now calculate the eta square term\n",
    "et1 = np.linalg.multi_dot( [W_T,V_inv,W] )\n",
    "et2 = np.linalg.multi_dot( [W_T,V_inv,X] )\n",
    "et3 = np.linalg.multi_dot( [X.T,V_inv,W] )\n",
    "et4 = np.linalg.multi_dot( [X.T,V_inv,X] )\n",
    "u = np.linalg.multi_dot( [Y.T,C_inv,Y-np.matmul(A,W)] )\n",
    "\n",
    "etasq = et1 - et2 - et3 + et4 + u"
   ]
  },
  {
   "cell_type": "code",
   "execution_count": 15,
   "metadata": {},
   "outputs": [
    {
     "name": "stdout",
     "output_type": "stream",
     "text": [
      "[[289.96372278]]\n",
      "[[289.96372278]]\n"
     ]
    }
   ],
   "source": [
    "print(chisq)\n",
    "print(etasq)"
   ]
  },
  {
   "cell_type": "markdown",
   "metadata": {},
   "source": [
    "Is the calculation of $W$ even correct?"
   ]
  }
 ],
 "metadata": {
  "kernelspec": {
   "display_name": "Python 3",
   "language": "python",
   "name": "python3"
  },
  "language_info": {
   "codemirror_mode": {
    "name": "ipython",
    "version": 3
   },
   "file_extension": ".py",
   "mimetype": "text/x-python",
   "name": "python",
   "nbconvert_exporter": "python",
   "pygments_lexer": "ipython3",
   "version": "3.6.3"
  }
 },
 "nbformat": 4,
 "nbformat_minor": 2
}
