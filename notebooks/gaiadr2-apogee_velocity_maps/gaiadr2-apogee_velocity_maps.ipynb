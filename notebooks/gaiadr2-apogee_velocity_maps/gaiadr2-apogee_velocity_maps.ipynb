{
 "cells": [
  {
   "cell_type": "code",
   "execution_count": 1,
   "metadata": {
    "collapsed": true
   },
   "outputs": [],
   "source": [
    "# ----------------------------------------------------------------------------\n",
    "#\n",
    "# TITLE - gaiadr2-apogee_velocity_maps.ipynb\n",
    "# AUTHOR - James Lane\n",
    "# PROJECT - AST 1501\n",
    "#\n",
    "# ----------------------------------------------------------------------------\n",
    "#\n",
    "# Docstrings and metadata:\n",
    "'''\n",
    "\n",
    "'''\n",
    "\n",
    "__author__ = \"James Lane\""
   ]
  },
  {
   "cell_type": "code",
   "execution_count": 2,
   "metadata": {
    "collapsed": true
   },
   "outputs": [],
   "source": [
    "### Imports\n",
    "\n",
    "## Basic\n",
    "import numpy as np\n",
    "import sys, os, pdb\n",
    "# import glob\n",
    "# import subprocess\n",
    "\n",
    "## Plotting\n",
    "from matplotlib import pyplot as plt\n",
    "# from matplotlib.backends.backend_pdf import PdfPages\n",
    "# from matplotlib import colors\n",
    "# from matplotlib import cm\n",
    "# import aplpy\n",
    "\n",
    "## Astropy\n",
    "from astropy.io import fits\n",
    "from astropy.coordinates import SkyCoord\n",
    "# from astropy import table\n",
    "from astropy import units as apu\n",
    "# from astropy import wcs\n",
    "from astropy.coordinates import CartesianDifferential\n",
    "\n",
    "## galpy & astroNN\n",
    "# from galpy import orbit\n",
    "# from galpy import potential\n",
    "# from galpy.util import bovy_coords as gpcoords\n",
    "import astroNN.apogee\n",
    "\n",
    "## Scipy\n",
    "from scipy.stats import binned_statistic_2d"
   ]
  },
  {
   "cell_type": "code",
   "execution_count": null,
   "metadata": {
    "collapsed": true
   },
   "outputs": [],
   "source": [
    "### Keywords\n",
    "plt.rc('usetex:True')"
   ]
  },
  {
   "cell_type": "markdown",
   "metadata": {},
   "source": [
    "# Load AstroNN catalogs and perform cuts"
   ]
  },
  {
   "cell_type": "code",
   "execution_count": null,
   "metadata": {},
   "outputs": [
    {
     "name": "stderr",
     "output_type": "stream",
     "text": [
      "/Users/JamesLane/Software/Python/anaconda3/envs/ast1501/lib/python3.6/importlib/_bootstrap.py:219: RuntimeWarning: compiletime version 3.5 of module 'tensorflow.python.framework.fast_tensor_util' does not match runtime version 3.6\n",
      "  return f(*args, **kwds)\n",
      "/Users/JamesLane/Software/Python/anaconda3/envs/ast1501/lib/python3.6/site-packages/h5py/__init__.py:34: FutureWarning: Conversion of the second argument of issubdtype from `float` to `np.floating` is deprecated. In future, it will be treated as `np.float64 == np.dtype(float).type`.\n",
      "  from ._conv import register_converters as _register_converters\n"
     ]
    }
   ],
   "source": [
    "### Load catalogs\n",
    "\n",
    "# Names\n",
    "abundance_catalog = '../../data/astronn/astroNN_apogee_dr14_catalog.fits'\n",
    "distance_catalog = '../../data/astronn/apogee_dr14_nn_dist_0562.fits'\n",
    "apogee_catalog = astroNN.apogee.allstar(dr=14)\n",
    "\n",
    "# Load and extract data\n",
    "abund_file = fits.open(abundance_catalog)\n",
    "abund_data = abund_file[1].data\n",
    "dist_file = fits.open(distance_catalog)\n",
    "dist_data = dist_file[1].data\n",
    "ap_file = fits.open(apogee_catalog)\n",
    "ap_data = ap_file[1].data"
   ]
  },
  {
   "cell_type": "code",
   "execution_count": null,
   "metadata": {
    "collapsed": true
   },
   "outputs": [],
   "source": [
    "### Read catalog values\n",
    "\n",
    "# ID, RA, Dec, logg, abundances, errors\n",
    "apid = abund_data['APOGEE_ID']\n",
    "locid = abund_data['LOCATION_ID']\n",
    "abunds = abund_data['astroNN']\n",
    "abunds_err = abund_data['astroNN_error']\n",
    "ra = abund_data['RA']\n",
    "dec = abund_data['DEC']\n",
    "logg, mg, si, ca, fe = abunds[:,[1,7,9,13,19]].T\n",
    "slogg, smg, ssi, sca, sfe = abunds_err[:,[1,7,9,13,19]].T\n",
    "\n",
    "# Distance, distance error, pmRA, pmDec\n",
    "dist = dist_data['pc'] / 1000 # In kpc\n",
    "sdist = dist_data['pc_error'] / 1000 # In kpc\n",
    "fsdist = sdist / dist\n",
    "pmra = dist_data['pmra']\n",
    "pmdec = dist_data['pmdec']\n",
    "\n",
    "# Radial velocity\n",
    "vrad = ap_data['VHELIO_AVG']\n",
    "\n",
    "# Make into a mega-array for easy cutting. Separate by floats and string\n",
    "all_data_str = np.array([apid, locid]).T\n",
    "all_data_flt = np.array([ra, dec, logg, mg, si, ca, fe, dist,\n",
    "                         slogg, smg, ssi, sca, sfe, sdist, pmra, \n",
    "                         pmdec, vrad ]).T"
   ]
  },
  {
   "cell_type": "code",
   "execution_count": null,
   "metadata": {
    "collapsed": true
   },
   "outputs": [],
   "source": [
    "### Perform cuts\n",
    "\n",
    "# Find stars with logg error > 0.2 dex, \n",
    "# and fractional distance error > 0.2\n",
    "good_stars = np.where(  ( slogg < 0.2 ) &\n",
    "                        ( fsdist < 0.2 ) &\n",
    "                        ( pmra != -9999 ) &\n",
    "                        ( pmdec != -9999 ) &\n",
    "                        ( ~np.isnan(pmra) ) &\n",
    "                        ( ~np.isnan(pmdec) )\n",
    "                     )[0]\n",
    "\n",
    "# Cut the large arrays\n",
    "all_data_flt = all_data_flt[good_stars]\n",
    "all_data_str = all_data_str[good_stars]\n",
    "\n",
    "# Unpack the data\n",
    "apid, locid = all_data_str.T\n",
    "ra, dec, logg, mg, si, ca, fe, dist, slogg, smg, ssi, sca, sfe, sdist, pmra, pmdec, vrad = all_data_flt.T"
   ]
  },
  {
   "cell_type": "code",
   "execution_count": null,
   "metadata": {
    "collapsed": true
   },
   "outputs": [],
   "source": [
    "### Make metallicities w.r.t. Fe\n",
    "\n",
    "mgfe = mg-fe\n",
    "sife = si-fe\n",
    "cafe = ca-fe"
   ]
  },
  {
   "cell_type": "markdown",
   "metadata": {},
   "source": [
    "# Convert to galactocentric coordinates"
   ]
  },
  {
   "cell_type": "code",
   "execution_count": null,
   "metadata": {
    "collapsed": true
   },
   "outputs": [],
   "source": [
    "### First define the LSR frame:\n",
    "\n",
    "x_sun = 8.125 # Gravity team\n",
    "z_sun = 0.0208 # Bennett & Bovy 2018\n",
    "SgrA_pmra = 6.379 # Reid (2004)\n",
    "u = 11.1  # }\n",
    "v = 12.24 # } Schoenrich\n",
    "w = 7.25  # }\n",
    "v += (SgrA_pmra * x_sun * 4.74) # Gravity x Reid (2004) SgrA* PM"
   ]
  },
  {
   "cell_type": "code",
   "execution_count": null,
   "metadata": {
    "collapsed": true
   },
   "outputs": [],
   "source": [
    "### Make SkyCoord\n",
    "\n",
    "# Initiate with LSR kinematics from above.\n",
    "coords = SkyCoord(ra = ra*apu.degree,\n",
    "                  dec = dec*apu.degree,\n",
    "                  distance = dist*apu.kpc,\n",
    "                  pm_ra_cosdec = pmra*apu.mas/apu.yr,\n",
    "                  pm_dec = pmdec*apu.mas/apu.yr,\n",
    "                  radial_velocity = vrad*apu.km/apu.s,\n",
    "                  galcen_distance = x_sun*apu.kpc,\n",
    "                  z_sun = z_sun*apu.kpc,\n",
    "                  galcen_v_sun = CartesianDifferential([u, v, w]*apu.km/apu.s))"
   ]
  },
  {
   "cell_type": "code",
   "execution_count": null,
   "metadata": {
    "collapsed": true
   },
   "outputs": [],
   "source": [
    "### Transform into new frames\n",
    "\n",
    "coords_gal = coords.transform_to('galactic')\n",
    "coords_gc = coords.transform_to('galactocentric')\n",
    "\n",
    "# Get galactic proper motions in mas/yr\n",
    "pmll = coords_gal.pm_l_cosb.value\n",
    "pmbb = coords_gal.pm_b.value\n",
    "\n",
    "# Get galactocentric positions in kpc\n",
    "gc_x = coords_gc.x.value * -1 # Flip for LH\n",
    "gc_y = coords_gc.y.value\n",
    "gc_z = coords_gc.z.value"
   ]
  },
  {
   "cell_type": "markdown",
   "metadata": {},
   "source": [
    "# Make some plots showing the spatial distribution of values"
   ]
  },
  {
   "cell_type": "code",
   "execution_count": null,
   "metadata": {
    "collapsed": true
   },
   "outputs": [],
   "source": [
    "### Function definitions\n",
    "\n",
    "def hist_gcxy(x, y, vals, vmin, vmax, stat, low_N_mask, no_N_mask, cmap):\n",
    "    \n",
    "    # Make the histogram using the supplied value and stat. Stat must be \n",
    "    # compatible with binned_statistic_2d, either 'median' or np.std\n",
    "    hist, xedges, yedges, binid = binned_statistic_2d(x, y, values=vals, statistic=stat,\n",
    "                                                      bins=n_bins, range=hist_range)\n",
    "\n",
    "    # Plot the image. Rotate to account for histogram => plotting grid\n",
    "    img = ax.imshow(np.rot90(hist), interpolation='nearest',\n",
    "                    extent=[xedges[0], xedges[-1], yedges[0], yedges[-1]],\n",
    "                    cmap=cmap, vmin=vmin, vmax=vmax)\n",
    "    \n",
    "    # Add the image masks. Assumes same geometry as hist.\n",
    "    img_mask = ax.imshow(low_N_mask, interpolation='nearest',\n",
    "                         extent=[xedges[0], xedges[-1], yedges[0], yedges[-1]])\n",
    "    img_mask = ax.imshow(no_N_mask, interpolation='nearest',\n",
    "                         extent=[xedges[0], xedges[-1], yedges[0], yedges[-1]])\n",
    "\n",
    "    # Colorbar\n",
    "    cbar = plt.colorbar(img)\n",
    "    \n",
    "    # Add the sun and it's orbit\n",
    "    ax.scatter(x_sun, 0, marker=r'$\\odot$', color='Orange')\n",
    "    orbit_circle = plt.Circle((0, 0), x_sun, edgecolor='Black', facecolor='None')\n",
    "    ax.add_artist(orbit_circle)\n",
    "    \n",
    "    # Decorate\n",
    "    ax.set_xlabel(r'X$_{GC}$ [kpc]')\n",
    "    ax.set_ylabel(r'Y$_{GC}$ [kpc]')\n",
    "    ax.set_xlim(x_lo, x_hi)\n",
    "    ax.set_ylim(y_lo, y_hi)\n",
    "    ax.tick_params(direction='in', top='on', right='on')\n",
    "    \n",
    "    return fig, ax, cbar\n",
    "#def\n",
    "\n",
    "def B12_model(x_hi, x_lo, y_hi, y_lo, n_bins):\n",
    "    \n",
    "    ### Assumes x positive away from galactic center.\n",
    "    \n",
    "    # First make a grid of points\n",
    "    gc_x_samp = np.linspace(x_lo, x_hi, n_bins)\n",
    "    gc_y_samp = np.linspace(y_lo, y_hi, n_bins)\n",
    "    gc_xv_samp, gc_yv_samp = np.meshgrid(gc_x_samp, gc_y_samp)\n",
    "\n",
    "    # Now convert the points into galactic l and galactocentric phi\n",
    "    gc_lv_samp = np.arctan2( gc_yv_samp, -1*(gc_xv_samp-x_sun) )\n",
    "    gc_phiv_samp = np.arctan2( gc_yv_samp, gc_xv_samp )\n",
    "\n",
    "    # Now calculate the velocity field\n",
    "    gc_losv_samp = 218*( 1 - 0.0028*np.sqrt(np.square(gc_xv_samp)+np.square(gc_yv_samp)) )*np.sin( gc_phiv_samp + gc_lv_samp ) + (11)*np.cos( gc_lv_samp ) - (245)*np.sin(gc_lv_samp)\n",
    "\n",
    "    # Now it will be ready for plotting once it is flipped:\n",
    "    return gc_losv_samp[:,::-1]\n",
    "#def"
   ]
  },
  {
   "cell_type": "code",
   "execution_count": null,
   "metadata": {
    "collapsed": true
   },
   "outputs": [],
   "source": [
    "### Make a galactic z cut:\n",
    "\n",
    "where_z_select = np.where(np.abs(gc_z) < 0.3)\n",
    "z_select_text = r'$|$Z$_{GC}| < 0.3$ kpc'"
   ]
  },
  {
   "cell_type": "code",
   "execution_count": null,
   "metadata": {
    "collapsed": true
   },
   "outputs": [],
   "source": [
    "### Prepare for plotting\n",
    "n_bins = 25\n",
    "\n",
    "x_hi = 15\n",
    "x_lo = 0\n",
    "y_hi = 10\n",
    "y_lo = -5\n",
    "hist_range = [ [x_lo,x_hi], [y_lo,y_hi] ]\n",
    "\n",
    "plt.close('all')"
   ]
  },
  {
   "cell_type": "markdown",
   "metadata": {},
   "source": [
    "# Plot density"
   ]
  },
  {
   "cell_type": "code",
   "execution_count": null,
   "metadata": {},
   "outputs": [],
   "source": [
    "fig = plt.figure()\n",
    "ax = fig.add_subplot(111)\n",
    "\n",
    "hist, xedges, yedges = np.histogram2d(gc_x[where_z_select], gc_y[where_z_select], bins=n_bins, range=hist_range)\n",
    "\n",
    "# Rotate to account for histogram -> plotting grid\n",
    "hist = np.rot90(hist)\n",
    "\n",
    "# Find low-N bins. As long as histogram geometry remains the same this will be \n",
    "# used for greying out values.\n",
    "where_low_N = np.where( (hist < 10) & (hist > 0) )\n",
    "low_N_mask = np.zeros((n_bins,n_bins,4))\n",
    "low_N_mask[:,:,3] = 0.0\n",
    "low_N_mask[where_low_N[0],where_low_N[1],:3] = 100\n",
    "low_N_mask[where_low_N[0],where_low_N[1],3] = 1.0\n",
    "\n",
    "# Find 0-N bins. This will differentiate between no data and too little data\n",
    "where_no_N = np.where( hist == 0 )\n",
    "no_N_mask = np.zeros((n_bins,n_bins,4))\n",
    "no_N_mask[:,:,3] = 0.0\n",
    "no_N_mask[where_no_N[0],where_no_N[1],:3] = 1\n",
    "no_N_mask[where_no_N[0],where_no_N[1],3] = 1.0\n",
    "\n",
    "img = ax.imshow(np.log10(hist), interpolation='nearest',\n",
    "                extent=[xedges[0], xedges[-1], yedges[0], yedges[-1]],\n",
    "               cmap='viridis', vmin=0.5, vmax=3.5)\n",
    "low_N_img = ax.imshow(low_N_mask, interpolation='nearest',\n",
    "                     extent=[xedges[0], xedges[-1], yedges[0], yedges[-1]])\n",
    "no_N_img = ax.imshow(no_N_mask, interpolation='nearest',\n",
    "                     extent=[xedges[0], xedges[-1], yedges[0], yedges[-1]])\n",
    "\n",
    "cbar = plt.colorbar(img)\n",
    "ax.scatter(x_sun, 0, marker=r'$\\odot$', color='Orange')\n",
    "orbit_circle = plt.Circle((0, 0), x_sun, edgecolor='Black', facecolor='None')\n",
    "ax.add_artist(orbit_circle)\n",
    "\n",
    "ax.set_xlabel('X [kpc]')\n",
    "ax.set_ylabel('Y [kpc]')\n",
    "cbar.set_label('Log[N]')\n",
    "ax.annotate(z_select_text, xy=(0.1,0.1), xycoords='axes fraction')\n",
    "\n",
    "plt.show()\n",
    "fig.savefig('N_hist.pdf')\n",
    "plt.close(fig)"
   ]
  },
  {
   "cell_type": "markdown",
   "metadata": {},
   "source": [
    "# Plot radial velocity"
   ]
  },
  {
   "cell_type": "code",
   "execution_count": null,
   "metadata": {},
   "outputs": [],
   "source": [
    "### Values\n",
    "fig = plt.figure()\n",
    "ax = fig.add_subplot(111)\n",
    "\n",
    "fig, ax, cbar = hist_gcxy(gc_x[where_z_select], gc_y[where_z_select], vrad[where_z_select],\n",
    "                          -150, 150, 'median', low_N_mask, no_N_mask, 'RdYlBu')\n",
    "\n",
    "cbar.set_label(r'Median V$_{helio}$')\n",
    "ax.annotate(z_select_text, xy=(0.1,0.1), xycoords='axes fraction')\n",
    "\n",
    "plt.show()\n",
    "fig.savefig('Vrad_hist.pdf')\n",
    "\n",
    "\n",
    "### B12 Model\n",
    "fig = plt.figure()\n",
    "ax = fig.add_subplot(111)\n",
    "\n",
    "# Make the grid\n",
    "gc_losv_samp = B12_model(x_lo, x_hi, y_lo, y_hi, n_bins)\n",
    "\n",
    "# Plot the image. Rotate to account for histogram => plotting grid\n",
    "img = ax.imshow(gc_losv_samp, interpolation='nearest',\n",
    "                extent=[x_lo, x_hi, y_lo, y_hi],\n",
    "                cmap='RdYlBu', vmin=-150, vmax=150)\n",
    "\n",
    "# Add the image masks. Assumes same geometry as hist.\n",
    "img_mask = ax.imshow(low_N_mask, interpolation='nearest',\n",
    "                     extent=[xedges[0], xedges[-1], yedges[0], yedges[-1]])\n",
    "img_mask = ax.imshow(no_N_mask, interpolation='nearest',\n",
    "                     extent=[xedges[0], xedges[-1], yedges[0], yedges[-1]])\n",
    "\n",
    "# Colorbar\n",
    "cbar = plt.colorbar(img)\n",
    "\n",
    "# Add the sun and it's orbit\n",
    "ax.scatter(x_sun, 0, marker=r'$\\odot$', color='Black')\n",
    "orbit_circle = plt.Circle((0, 0), x_sun, edgecolor='Black', facecolor='None')\n",
    "ax.add_artist(orbit_circle)\n",
    "\n",
    "# Decorate\n",
    "ax.set_xlabel(r'X$_{GC}$ [kpc]')\n",
    "ax.set_ylabel(r'Y$_{GC}$ [kpc]')\n",
    "ax.set_xlim(x_lo, x_hi)\n",
    "ax.set_ylim(y_lo, y_hi)\n",
    "ax.tick_params(direction='in', top='on', right='on')\n",
    "cbar.set_label(r'B12 Average V$_{helio}$')\n",
    "\n",
    "plt.show()\n",
    "fig.savefig('B12_model.pdf')\n",
    "\n",
    "\n",
    "### Standard deviation\n",
    "fig = plt.figure()\n",
    "ax = fig.add_subplot(111)\n",
    "\n",
    "fig, ax, cbar = hist_gcxy(gc_x[where_z_select], gc_y[where_z_select], vrad[where_z_select],\n",
    "                          0, 75, np.std, low_N_mask, no_N_mask, 'Reds')\n",
    "\n",
    "cbar.set_label(r'St. Dev. V$_{helio}$')\n",
    "ax.annotate(z_select_text, xy=(0.1,0.1), xycoords='axes fraction')\n",
    "\n",
    "plt.show()\n",
    "fig.savefig('Vrad_err_hist.pdf')\n",
    "plt.close('all')"
   ]
  },
  {
   "cell_type": "markdown",
   "metadata": {},
   "source": [
    "# Proper motion galactic longitude"
   ]
  },
  {
   "cell_type": "code",
   "execution_count": null,
   "metadata": {},
   "outputs": [],
   "source": [
    "# Values\n",
    "fig = plt.figure()\n",
    "ax = fig.add_subplot(111)\n",
    "\n",
    "fig, ax, cbar = hist_gcxy(gc_x[where_z_select], gc_y[where_z_select], -1*pmll[where_z_select],\n",
    "                          -8, 8, 'median', low_N_mask, no_N_mask, 'RdYlBu')\n",
    "\n",
    "cbar.set_label(r'Median $\\mu_{lon}$')\n",
    "ax.annotate(z_select_text, xy=(0.1,0.1), xycoords='axes fraction')\n",
    "\n",
    "plt.show()\n",
    "fig.savefig('pmll_hist.pdf')\n",
    "\n",
    "# Standard deviation\n",
    "fig = plt.figure()\n",
    "ax = fig.add_subplot(111)\n",
    "\n",
    "fig, ax, cbar = hist_gcxy(gc_x[where_z_select], gc_y[where_z_select], pmll[where_z_select],\n",
    "                          0, 8, np.std, low_N_mask, no_N_mask, 'Reds')\n",
    "\n",
    "cbar.set_label(r'St. Dev. $\\mu_{lon}$')\n",
    "ax.annotate(z_select_text, xy=(0.1,0.1), xycoords='axes fraction')\n",
    "\n",
    "plt.show()\n",
    "fig.savefig('pmll_err_hist.pdf')\n",
    "plt.close('all')"
   ]
  },
  {
   "cell_type": "markdown",
   "metadata": {},
   "source": [
    "# Proper motion galactic latitude"
   ]
  },
  {
   "cell_type": "code",
   "execution_count": null,
   "metadata": {},
   "outputs": [],
   "source": [
    "# Values.\n",
    "fig = plt.figure()\n",
    "ax = fig.add_subplot(111)\n",
    "\n",
    "fig, ax, cbar = hist_gcxy(gc_x[where_z_select], gc_y[where_z_select], pmbb[where_z_select],\n",
    "                          -5, 5, 'median', low_N_mask, no_N_mask, 'RdYlBu')\n",
    "\n",
    "cbar.set_label(r'Median $\\mu_{lat}$')\n",
    "ax.annotate(z_select_text, xy=(0.1,0.1), xycoords='axes fraction')\n",
    "\n",
    "plt.show()\n",
    "fig.savefig('pmbb_hist.pdf')\n",
    "\n",
    "# Standard deviation\n",
    "fig = plt.figure()\n",
    "ax = fig.add_subplot(111)\n",
    "\n",
    "fig, ax, cbar = hist_gcxy(gc_x[where_z_select], gc_y[where_z_select], pmbb[where_z_select],\n",
    "                          0, 5, np.std, low_N_mask, no_N_mask, 'Reds')\n",
    "\n",
    "cbar.set_label(r'Standard deviation $\\mu_{lat}$')\n",
    "ax.annotate(z_select_text, xy=(0.1,0.1), xycoords='axes fraction')\n",
    "\n",
    "plt.show()\n",
    "fig.savefig('pmbb_err_hist.pdf')\n",
    "plt.close('all')"
   ]
  },
  {
   "cell_type": "markdown",
   "metadata": {},
   "source": [
    "# Make plots of the B12 model"
   ]
  },
  {
   "cell_type": "code",
   "execution_count": null,
   "metadata": {},
   "outputs": [],
   "source": [
    "# First make a grid of points\n",
    "gc_losv_samp = B12_model(-20,20,-20,20,400)\n",
    "\n",
    "fig = plt.figure()\n",
    "ax = fig.add_subplot(111)\n",
    "\n",
    "# Plot the image. Rotate to account for histogram => plotting grid\n",
    "img = ax.imshow(gc_losv_samp, interpolation='nearest',\n",
    "                extent=[-20,20,-20,20],\n",
    "                cmap='RdYlBu', vmin=-150, vmax=150)\n",
    "\n",
    "# Colorbar\n",
    "cbar = plt.colorbar(img)\n",
    "\n",
    "# Add the sun and it's orbit\n",
    "ax.scatter(x_sun, 0, marker=r'$\\odot$', color='Black')\n",
    "orbit_circle = plt.Circle((0,0), x_sun, edgecolor='Black', facecolor='None')\n",
    "outter_circle = plt.Circle((0,0), 20, edgecolor='Black', facecolor='None')\n",
    "ax.add_artist(orbit_circle)\n",
    "ax.add_artist(outter_circle)\n",
    "\n",
    "# Decorate\n",
    "ax.set_xlabel(r'X$_{GC}$ [kpc]')\n",
    "ax.set_ylabel(r'Y$_{GC}$ [kpc]')\n",
    "ax.set_xlim(-20,20)\n",
    "ax.set_ylim(-20,20)\n",
    "ax.tick_params(direction='in', top='on', right='on')\n",
    "cbar.set_label(r'Average V$_{helio}$')\n",
    "\n",
    "plt.show()\n",
    "fig.savefig('B12_model_full.pdf')\n"
   ]
  },
  {
   "cell_type": "code",
   "execution_count": null,
   "metadata": {
    "collapsed": true
   },
   "outputs": [],
   "source": []
  }
 ],
 "metadata": {
  "kernelspec": {
   "display_name": "Python 3",
   "language": "python",
   "name": "python3"
  },
  "language_info": {
   "codemirror_mode": {
    "name": "ipython",
    "version": 3
   },
   "file_extension": ".py",
   "mimetype": "text/x-python",
   "name": "python",
   "nbconvert_exporter": "python",
   "pygments_lexer": "ipython3",
   "version": "3.6.3"
  }
 },
 "nbformat": 4,
 "nbformat_minor": 2
}
