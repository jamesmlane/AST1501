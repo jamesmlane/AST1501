{
 "cells": [
  {
   "cell_type": "code",
   "execution_count": 1,
   "metadata": {
    "collapsed": true
   },
   "outputs": [],
   "source": [
    "# ----------------------------------------------------------------------------\n",
    "#\n",
    "# TITLE - gaiadr2-apogee_velocity_maps.ipynb\n",
    "# AUTHOR - James Lane\n",
    "# PROJECT - AST 1501\n",
    "#\n",
    "# ----------------------------------------------------------------------------\n",
    "#\n",
    "# Docstrings and metadata:\n",
    "'''\n",
    "This notebook will fit the velocity dispersions using Gaia DR2 data\n",
    "'''\n",
    "\n",
    "__author__ = \"James Lane\""
   ]
  },
  {
   "cell_type": "code",
   "execution_count": 2,
   "metadata": {
    "collapsed": true
   },
   "outputs": [],
   "source": [
    "### Imports\n",
    "\n",
    "## Basic\n",
    "import numpy as np\n",
    "import sys, os, pdb\n",
    "import time\n",
    "# import glob\n",
    "# import subprocess\n",
    "\n",
    "## Plotting\n",
    "from matplotlib import pyplot as plt\n",
    "# from matplotlib.backends.backend_pdf import PdfPages\n",
    "# from matplotlib import colors\n",
    "# from matplotlib import cm\n",
    "# import aplpy\n",
    "\n",
    "## Astropy\n",
    "from astropy.io import fits\n",
    "from astropy.coordinates import SkyCoord\n",
    "from astropy import table\n",
    "from astropy import units as apu\n",
    "# from astropy import wcs\n",
    "from astropy.coordinates import CartesianDifferential\n",
    "\n",
    "## galpy & astroNN\n",
    "# from galpy import orbit\n",
    "# from galpy import potential\n",
    "# from galpy.util import bovy_coords as gpcoords\n",
    "import astroNN.apogee\n",
    "\n",
    "## Scipy\n",
    "from scipy.stats import binned_statistic_2d\n",
    "from scipy.optimize import curve_fit"
   ]
  },
  {
   "cell_type": "code",
   "execution_count": 3,
   "metadata": {
    "collapsed": true
   },
   "outputs": [],
   "source": [
    "### Change Jupyter settings\n",
    "\n",
    "from IPython.core.interactiveshell import InteractiveShell\n",
    "from IPython.display import Markdown, display\n",
    "\n",
    "# Matplotlib for notebooks\n",
    "%matplotlib inline\n",
    "\n",
    "# pretty print all cell's output and not just the last one\n",
    "InteractiveShell.ast_node_interactivity = \"all\"\n",
    "\n",
    "# Print using markdown\n",
    "def printmd(string, color=None):\n",
    "    colorstr = \"<span style='color:{}'>{}</span>\".format(color, string)\n",
    "    display(Markdown(colorstr))"
   ]
  },
  {
   "cell_type": "markdown",
   "metadata": {},
   "source": [
    "# Load\n",
    "Load the precut AstroNN catalog and apply a cut on the galactocentric $Z$"
   ]
  },
  {
   "cell_type": "code",
   "execution_count": 4,
   "metadata": {
    "collapsed": true
   },
   "outputs": [],
   "source": [
    "### Load catalogs\n",
    "\n",
    "gaiadr2_apogee_catalog = '../1-gaiadr2-apogee_dataset/gaiadr2-apogee_dataset.FIT'\n",
    "f = fits.open(gaiadr2_apogee_catalog)\n",
    "data = f[1].data"
   ]
  },
  {
   "cell_type": "code",
   "execution_count": 5,
   "metadata": {
    "collapsed": true
   },
   "outputs": [],
   "source": [
    "### Cut on galactocentric absolute Z < 0.3 kpc\n",
    "\n",
    "where_low_z = np.where( np.abs(data['Z']) < 0.3 )[0]\n",
    "data_low_z = data[where_low_z] "
   ]
  },
  {
   "cell_type": "code",
   "execution_count": 6,
   "metadata": {
    "collapsed": true
   },
   "outputs": [],
   "source": [
    "### Read catalog values\n",
    "\n",
    "# ID, RA, Dec, logg, abundances, errors\n",
    "apid = data_low_z['APOGEE_ID']\n",
    "locid = data_low_z['LOCATION_ID']\n",
    "gc_x = data_low_z['X']\n",
    "gc_y = data_low_z['Y']\n",
    "gc_z = data_low_z['Z']\n",
    "gc_vx = data_low_z['VX']\n",
    "gc_vy = data_low_z['VY']\n",
    "gc_vz = data_low_z['VZ']"
   ]
  },
  {
   "cell_type": "code",
   "execution_count": 7,
   "metadata": {
    "collapsed": true
   },
   "outputs": [],
   "source": [
    "### Convert to galactocentric radius and radial velocity\n",
    "gc_R = np.sqrt(np.square(gc_x)+np.square(gc_y))\n",
    "gc_phi = np.arctan2(gc_y,gc_x)\n",
    "gc_vR = np.cos(gc_phi)*gc_vx + np.sin(gc_phi)*gc_vy\n",
    "gc_vT = -np.sin(gc_phi)*gc_vx + np.cos(gc_phi)*gc_vy"
   ]
  },
  {
   "cell_type": "markdown",
   "metadata": {},
   "source": [
    "# R Dispersion\n",
    "Determine the velocity dispersion in R"
   ]
  },
  {
   "cell_type": "code",
   "execution_count": 8,
   "metadata": {},
   "outputs": [
    {
     "name": "stdout",
     "output_type": "stream",
     "text": [
      "done 1/23\n",
      "done 2/23\n",
      "done 3/23\n",
      "done 4/23\n",
      "done 5/23\n",
      "done 6/23\n",
      "done 7/23\n",
      "done 8/23\n",
      "done 9/23\n",
      "done 10/23\n",
      "done 11/23\n",
      "done 12/23\n",
      "done 13/23\n",
      "done 14/23\n",
      "done 15/23\n",
      "done 16/23\n",
      "done 17/23\n",
      "done 18/23\n",
      "done 19/23\n",
      "done 20/23\n",
      "done 21/23\n",
      "done 22/23\n",
      "done 23/23\n"
     ]
    }
   ],
   "source": [
    "# Bin radially and calculate velocity dispersions\n",
    "r_low = 3\n",
    "r_hi = 15\n",
    "bin_size = 0.5\n",
    "n_bins = int(((r_hi-r_low)/bin_size)-1)\n",
    "r_bins = np.arange(r_low,r_hi,bin_size)\n",
    "r_bin_mids = r_bins[:-1]+(bin_size/2)\n",
    "sigmavR = np.empty(n_bins)\n",
    "sigmavT = np.empty(n_bins)\n",
    "sigmavZ = np.empty(n_bins)\n",
    "jk_sdvR = np.empty(n_bins)\n",
    "jk_sdvT = np.empty(n_bins)\n",
    "jk_sdvZ = np.empty(n_bins)\n",
    "\n",
    "# Loop over all of the radial bins\n",
    "for i in range(n_bins):\n",
    "        \n",
    "    # Find which stars are in this radial bin\n",
    "    where_in_bin = np.where( (gc_R > r_bins[i]) & (gc_R < r_bins[i+1]) )[0]\n",
    "    vR_temp = gc_vR[where_in_bin]\n",
    "    vT_temp = gc_vT[where_in_bin]\n",
    "    vZ_temp = gc_vz[where_in_bin]\n",
    "    n_temp = len(where_in_bin)\n",
    "    \n",
    "    # Calculate standard deviations\n",
    "    sigmavR[i] = np.std(vR_temp)\n",
    "    sigmavT[i] = np.std(vT_temp)\n",
    "    sigmavZ[i] = np.std(vZ_temp)\n",
    "    \n",
    "    # Do the jackknife error\n",
    "    jk_sdvR_samps = np.empty(n_temp)\n",
    "    jk_sdvT_samps = np.empty(n_temp)\n",
    "    jk_sdvZ_samps = np.empty(n_temp)\n",
    "\n",
    "    # Loop over the sample size\n",
    "    for j in range(n_temp):\n",
    "        \n",
    "        # Drop 1 value out\n",
    "        jk_vR_samp_temp = np.delete(vR_temp, j)\n",
    "        jk_vT_samp_temp = np.delete(vT_temp, j)\n",
    "        jk_vZ_samp_temp = np.delete(vZ_temp, j)\n",
    "        \n",
    "        # Calculate the SD of this sample.\n",
    "        jk_sdvR_samps[j] = np.std(jk_vR_samp_temp)\n",
    "        jk_sdvT_samps[j] = np.std(jk_vT_samp_temp)\n",
    "        jk_sdvZ_samps[j] = np.std(jk_vZ_samp_temp)\n",
    "        \n",
    "    ###j\n",
    "    \n",
    "    # Calculate the standard error on the dispersion\n",
    "    jk_sdvR[i] = np.sqrt( ((n_temp-1)/n_temp) * np.sum( np.square(jk_sdvR_samps - np.average(jk_sdvR_samps)) ) )\n",
    "    jk_sdvT[i] = np.sqrt( ((n_temp-1)/n_temp) * np.sum( np.square(jk_sdvT_samps - np.average(jk_sdvT_samps)) ) )\n",
    "    jk_sdvZ[i] = np.sqrt( ((n_temp-1)/n_temp) * np.sum( np.square(jk_sdvZ_samps - np.average(jk_sdvZ_samps)) ) )\n",
    "    print('done '+str(i+1)+'/'+str(n_bins))\n",
    "##i"
   ]
  },
  {
   "cell_type": "markdown",
   "metadata": {},
   "source": [
    "# Fit exponentials"
   ]
  },
  {
   "cell_type": "code",
   "execution_count": 9,
   "metadata": {},
   "outputs": [
    {
     "name": "stdout",
     "output_type": "stream",
     "text": [
      "Radial velocity dispersion at sun: 38.61358948088795 km/s\n",
      "Radial dispersion scale length: 13.582151825275535 kpc\n",
      "\n",
      "Tangential velocity dispersion at sun: 27.996140496758645 km/s\n",
      "Tangential dispersion scale length: 10.639463200939995 kpc\n",
      "\n",
      "Vertical velocity dispersion at sun: 20.873031592844775 km/s\n",
      "Vertical dispersion scale length: 14.071990554612466 kpc\n",
      "\n"
     ]
    }
   ],
   "source": [
    "# Define the exponential fitting function\n",
    "def exp_fitting_fn(x,A,h):\n",
    "    return A*np.exp(-x/h)\n",
    "#def\n",
    "\n",
    "# Fit the radial dispersion\n",
    "popt_vR, pcov_vR = curve_fit(exp_fitting_fn, r_bin_mids, sigmavR, sigma=jk_sdvR, p0=[100,30])\n",
    "h_vR = popt_vR[1]\n",
    "h_vR_err = np.sqrt(np.diag(pcov_vR))[1]\n",
    "\n",
    "# Fit the circular dispersion\n",
    "popt_vT, pcov_vT = curve_fit(exp_fitting_fn, r_bin_mids, sigmavT, sigma=jk_sdvT, p0=[100,30])\n",
    "h_vT = popt_vT[1]\n",
    "h_vT_err = np.sqrt(np.diag(pcov_vT))[1]\n",
    "\n",
    "# Fit the Z dispersion\n",
    "popt_vZ, pcov_vZ = curve_fit(exp_fitting_fn, r_bin_mids, sigmavZ, sigma=jk_sdvZ, p0=[100,30])\n",
    "h_vZ = popt_vZ[1]\n",
    "h_vZ_err = np.sqrt(np.diag(pcov_vZ))[1]\n",
    "\n",
    "mock_radius = np.linspace(r_low, r_hi, num=1000)\n",
    "\n",
    "print( r'Radial velocity dispersion at sun: '+str(exp_fitting_fn(8, popt_vR[0], popt_vR[1]) )+' km/s' )\n",
    "print( r'Radial dispersion scale length: '+str(popt_vR[1])+' kpc\\n')\n",
    "print( r'Tangential velocity dispersion at sun: '+str(exp_fitting_fn(8, popt_vT[0], popt_vT[1]) )+' km/s' )\n",
    "print( r'Tangential dispersion scale length: '+str(popt_vT[1])+' kpc\\n')\n",
    "print( r'Vertical velocity dispersion at sun: '+str(exp_fitting_fn(8, popt_vZ[0], popt_vZ[1]) )+' km/s' )\n",
    "print( r'Vertical dispersion scale length: '+str(popt_vZ[1])+' kpc\\n')"
   ]
  },
  {
   "cell_type": "markdown",
   "metadata": {},
   "source": [
    "# Plot individual dispersions and X"
   ]
  },
  {
   "cell_type": "code",
   "execution_count": 10,
   "metadata": {},
   "outputs": [
    {
     "data": {
      "image/png": "[encoded data removed]",
      "text/plain": [
       "<matplotlib.figure.Figure at 0x1a216e4080>"
      ]
     },
     "metadata": {},
     "output_type": "display_data"
    }
   ],
   "source": [
    "### Plot Radial velocity dispersion as a function of radius\n",
    "\n",
    "fig = plt.figure()\n",
    "ax = fig.add_subplot(111)\n",
    "\n",
    "# ax.scatter(r_bin_mids, sigmavR, facecolor='None', edgecolor='DodgerBlue')\n",
    "ax.errorbar(r_bin_mids, sigmavR, yerr=jk_sdvR, fmt='o', markerfacecolor='None', markeredgecolor='DodgerBlue',\n",
    "           ecolor='DodgerBlue', capsize=0.1)\n",
    "ax.set_xlim(r_low-1,r_hi+1)\n",
    "ax.set_xlabel(r'R$_{gal.}$ [kpc]')\n",
    "ax.set_ylabel(r'$\\sigma_{R}$ [km s$^{-1}$]')\n",
    "\n",
    "plt.show()\n",
    "fig.savefig('plots/r_vs_rsigma.pdf')\n",
    "plt.close('all')"
   ]
  },
  {
   "cell_type": "code",
   "execution_count": 11,
   "metadata": {},
   "outputs": [
    {
     "data": {
      "image/png": "[encoded data removed]",
      "text/plain": [
       "<matplotlib.figure.Figure at 0x1a21aaa550>"
      ]
     },
     "metadata": {},
     "output_type": "display_data"
    }
   ],
   "source": [
    "### Plot Radial velocity dispersion as a function of radius\n",
    "\n",
    "fig = plt.figure()\n",
    "ax = fig.add_subplot(111)\n",
    "\n",
    "# ax.scatter(r_bin_mids, sigmavT, facecolor='None', edgecolor='DodgerBlue')\n",
    "ax.errorbar(r_bin_mids, sigmavR, yerr=jk_sdvT, fmt='o', markerfacecolor='None', markeredgecolor='DodgerBlue',\n",
    "           ecolor='DodgerBlue', capsize=0.1)\n",
    "ax.set_xlim(r_low-1,r_hi+1)\n",
    "ax.set_xlabel(r'R$_{gal.}$ [kpc]')\n",
    "ax.set_ylabel(r'$\\sigma_{\\phi}$ [km s$^{-1}$]')\n",
    "\n",
    "plt.show()\n",
    "fig.savefig('plots/r_vs_Tsigma.pdf')\n",
    "plt.close('all')"
   ]
  },
  {
   "cell_type": "code",
   "execution_count": 12,
   "metadata": {},
   "outputs": [
    {
     "data": {
      "image/png": "[encoded data removed]",
      "text/plain": [
       "<matplotlib.figure.Figure at 0x1a2ad5bb00>"
      ]
     },
     "metadata": {},
     "output_type": "display_data"
    }
   ],
   "source": [
    "### Plot X as a function of radius\n",
    "\n",
    "Xrat = np.divide(sigmavT**2,sigmavR**2)\n",
    "# Figure out combined error\n",
    "Xrat_err = Xrat * np.sqrt(2) * np.sqrt( np.square(jk_sdvT/sigmavT) + np.square(jk_sdvR/sigmavR) )\n",
    "\n",
    "fig = plt.figure()\n",
    "ax = fig.add_subplot(111)\n",
    "\n",
    "# ax.scatter(r_bin_mids, Xrat, facecolor='None', edgecolor='DodgerBlue')\n",
    "ax.errorbar(r_bin_mids, Xrat, yerr=Xrat_err, fmt='o', markerfacecolor='None', markeredgecolor='DodgerBlue',\n",
    "           ecolor='DodgerBlue', capsize=0.1)\n",
    "ax.set_xlim(r_low-1,r_hi+1)\n",
    "ax.set_xlabel(r'R$_{gal.}$ [kpc]')\n",
    "ax.set_ylabel(r'$X^{2}$')\n",
    "\n",
    "plt.show()\n",
    "fig.savefig('plots/r_vs_X.pdf')\n",
    "plt.close('all')"
   ]
  },
  {
   "cell_type": "markdown",
   "metadata": {},
   "source": [
    "# Plot everything together"
   ]
  },
  {
   "cell_type": "code",
   "execution_count": 13,
   "metadata": {},
   "outputs": [
    {
     "name": "stdout",
     "output_type": "stream",
     "text": [
      "Radial velocity dispersion at sun: 38.61358948088795 (km/s)^2\n"
     ]
    }
   ],
   "source": [
    "# Define the exponential fitting function\n",
    "def exp_fitting_fn(x,A,h):\n",
    "    return A*np.exp(-x/h)\n",
    "#def\n",
    "\n",
    "# Fit the radial dispersion\n",
    "popt_vR, pcov_vR = curve_fit(exp_fitting_fn, r_bin_mids, sigmavR, sigma=jk_sdvR, p0=[100,30])\n",
    "h_vR = popt_vR[1]\n",
    "h_vR_err = np.sqrt(np.diag(pcov_vR))[1]\n",
    "\n",
    "# Fit the circular dispersion\n",
    "popt_vT, pcov_vT = curve_fit(exp_fitting_fn, r_bin_mids, sigmavT, sigma=jk_sdvT, p0=[100,30])\n",
    "h_vT = popt_vT[1]\n",
    "h_vT_err = np.sqrt(np.diag(pcov_vT))[1]\n",
    "\n",
    "mock_radius = np.linspace(r_low, r_hi, num=1000)\n",
    "\n",
    "print( r'Radial velocity dispersion at sun: '+str(exp_fitting_fn(8, popt_vR[0], popt_vR[1]) )+' (km/s)^2' )"
   ]
  },
  {
   "cell_type": "code",
   "execution_count": 14,
   "metadata": {},
   "outputs": [
    {
     "data": {
      "image/png": "[encoded data removed]",
      "text/plain": [
       "<matplotlib.figure.Figure at 0x1a2a9bec18>"
      ]
     },
     "metadata": {},
     "output_type": "display_data"
    }
   ],
   "source": [
    "### Plot all together\n",
    "fig = plt.figure(figsize=(6,6))\n",
    "ax1 = fig.add_subplot(211)\n",
    "ax2 = fig.add_subplot(212)\n",
    "\n",
    "ax1.errorbar(r_bin_mids, sigmavR, yerr=jk_sdvR, fmt='o', markerfacecolor='None',\n",
    "             markeredgecolor='DodgerBlue', ecolor='DodgerBlue', label=r'$\\sigma_{R}$')\n",
    "ax1.plot(mock_radius, exp_fitting_fn(mock_radius, popt_vR[0], popt_vR[1]), linestyle='solid', color='DodgerBlue', alpha=0.5)\n",
    "\n",
    "ax1.errorbar(r_bin_mids, sigmavT, yerr=jk_sdvT, fmt='o', markerfacecolor='None', \n",
    "             markeredgecolor='Red', ecolor='Red', label=r'$\\sigma_{\\phi}$')\n",
    "# ax1.plot(mock_radius, exp_fitting_fn(mock_radius, popt_vT[0], popt_vT[1]), linestyle='solid', color='Red', alpha=0.5)\n",
    "\n",
    "ax2.errorbar(r_bin_mids, Xrat, yerr=Xrat_err, fmt='o', markerfacecolor='None', \n",
    "             markeredgecolor='Black', ecolor='Black')\n",
    "\n",
    "# ax1.scatter(r_bin_mids, sigmavR, facecolor='None', edgecolor='DodgerBlue', label=r'$\\sigma_{R}$')\n",
    "# ax1.scatter(r_bin_mids, sigmavT, facecolor='None', edgecolor='Red', label=r'$\\sigma_{\\phi}$')\n",
    "# ax2.scatter(r_bin_mids, np.divide(sigmavT**2,sigmavR**2), facecolor='None', edgecolor='Black')\n",
    "\n",
    "ax1.set_xlim(r_low-1,r_hi+1)\n",
    "ax1.set_ylim(15,90)\n",
    "ax2.set_xlim(r_low-1,r_hi+1)\n",
    "ax2.set_ylim(0.5,1.3)\n",
    "\n",
    "ax1.set_ylabel(r'$\\sigma$ [km s$^{-1}$]')\n",
    "ax2.set_xlabel(r'R$_{gal}$ [kpc]')\n",
    "ax2.set_ylabel(r'$X^{2}$')\n",
    "\n",
    "ax1.legend(loc='upper right', fontsize=15)\n",
    "ax1.annotate(r'h$_{\\sigma}=$'+str(round(h_vR,2))+r'$\\pm$'+str(round(h_vR_err,2)), (0.4,0.8), \n",
    "             xycoords='axes fraction', fontsize=12)\n",
    "\n",
    "ax1.tick_params(direction='in', right='on', top='on', labelbottom='off')\n",
    "ax2.tick_params(direction='in', right='on', top='on', )\n",
    "\n",
    "fig.subplots_adjust(hspace=0)\n",
    "\n",
    "plt.show()\n",
    "fig.savefig('plots/vdisp_all.pdf')\n",
    "plt.close('all')"
   ]
  },
  {
   "cell_type": "code",
   "execution_count": null,
   "metadata": {
    "collapsed": true
   },
   "outputs": [],
   "source": []
  }
 ],
 "metadata": {
  "kernelspec": {
   "display_name": "Python 3",
   "language": "python",
   "name": "python3"
  },
  "language_info": {
   "codemirror_mode": {
    "name": "ipython",
    "version": 3
   },
   "file_extension": ".py",
   "mimetype": "text/x-python",
   "name": "python",
   "nbconvert_exporter": "python",
   "pygments_lexer": "ipython3",
   "version": "3.6.3"
  }
 },
 "nbformat": 4,
 "nbformat_minor": 2
}
