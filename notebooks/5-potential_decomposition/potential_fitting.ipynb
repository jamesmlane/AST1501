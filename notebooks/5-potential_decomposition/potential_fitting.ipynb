{
 "cells": [
  {
   "cell_type": "code",
   "execution_count": 1,
   "metadata": {},
   "outputs": [],
   "source": [
    "# ----------------------------------------------------------------------------\n",
    "#\n",
    "# TITLE - potential_fitting.ipynb\n",
    "# AUTHOR - James Lane\n",
    "# PROJECT - AST 1501\n",
    "#\n",
    "# ----------------------------------------------------------------------------\n",
    "#\n",
    "# Docstrings and metadata:\n",
    "'''Fit the Kuijken & Tremaine model to the MWPotential2014 + triaxial halo model.\n",
    "'''\n",
    "\n",
    "__author__ = \"James Lane\""
   ]
  },
  {
   "cell_type": "code",
   "execution_count": 4,
   "metadata": {},
   "outputs": [],
   "source": [
    "### Imports\n",
    "\n",
    "## Basic\n",
    "import numpy as np\n",
    "import sys, os, pdb\n",
    "\n",
    "## Plotting\n",
    "from matplotlib import pyplot as plt\n",
    "\n",
    "## galpy\n",
    "from galpy import potential\n",
    "\n",
    "## Project specific\n",
    "sys.path.append('../../src/')\n",
    "import ast1501.potential"
   ]
  },
  {
   "cell_type": "code",
   "execution_count": 3,
   "metadata": {},
   "outputs": [],
   "source": [
    "# Matplotlib for notebooks\n",
    "%matplotlib inline\n",
    "%config InlineBackend.figure_format = 'retina'"
   ]
  },
  {
   "cell_type": "markdown",
   "metadata": {},
   "source": [
    "# Meta\n",
    "\n",
    "## Future work\n",
    "\n",
    "## Information\n",
    "- Kuijken & Tremaine model: https://ui.adsabs.harvard.edu/#abs/1994ApJ...421..178K/abstract"
   ]
  },
  {
   "cell_type": "markdown",
   "metadata": {},
   "source": [
    "# Define functions"
   ]
  },
  {
   "cell_type": "code",
   "execution_count": 5,
   "metadata": {},
   "outputs": [],
   "source": [
    "def kuijken_model(x,vc,alpha,R0,psi0,phib):\n",
    "    \n",
    "    if alpha != 0:\n",
    "        axi_component = ( vc**2 / ( 2 * alpha ) ) * ( x[0] / R0 )**( 2 * alpha )\n",
    "    else:\n",
    "        axi_component = ( vc**2 ) * np.log( x[0] )\n",
    "    ##ie\n",
    "    \n",
    "    nonaxi_component = ( psi0*( x[0] / R0 )**p ) * ( np.cos( 2*( x[1] - phib ) ) )\n",
    "    \n",
    "    return axi_component + nonaxi_component\n",
    "#def"
   ]
  },
  {
   "cell_type": "markdown",
   "metadata": {},
   "source": [
    "# Make the data to fit\n",
    "Make MWPotential2014 and replace the normal halo with the triaxial halo"
   ]
  },
  {
   "cell_type": "code",
   "execution_count": 10,
   "metadata": {},
   "outputs": [],
   "source": [
    "# First declare the data space. Fit a grid from 5-15 kpc in radius and -pi to pi in azimuth\n",
    "R_limits = [5,15]\n",
    "phi_limits = [-np.pi,np.pi]\n",
    "R_range = np.linspace( R_limits[0], R_limits[1], 100 )\n",
    "phi_range = np.linspace( phi_limits[0], phi_limits[1], 100 )\n",
    "R_mesh, phi_mesh = np.meshgrid( R_range, phi_range )\n",
    "\n",
    "# Make into a 2D array that can be fed into the function\n",
    "Rs = R_mesh.flatten()\n",
    "phis = phi_mesh.flatten()\n",
    "xdata = np.vstack((Rs,phis))"
   ]
  },
  {
   "cell_type": "code",
   "execution_count": null,
   "metadata": {},
   "outputs": [],
   "source": [
    "# Make the galpy data\n"
   ]
  }
 ],
 "metadata": {
  "kernelspec": {
   "display_name": "Python 3",
   "language": "python",
   "name": "python3"
  },
  "language_info": {
   "codemirror_mode": {
    "name": "ipython",
    "version": 3
   },
   "file_extension": ".py",
   "mimetype": "text/x-python",
   "name": "python",
   "nbconvert_exporter": "python",
   "pygments_lexer": "ipython3",
   "version": "3.6.3"
  }
 },
 "nbformat": 4,
 "nbformat_minor": 2
}
