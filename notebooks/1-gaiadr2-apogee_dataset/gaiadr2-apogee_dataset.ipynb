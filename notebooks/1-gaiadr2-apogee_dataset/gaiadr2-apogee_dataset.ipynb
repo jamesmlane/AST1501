{
 "cells": [
  {
   "cell_type": "code",
   "execution_count": 1,
   "metadata": {
    "collapsed": true
   },
   "outputs": [],
   "source": [
    "# ----------------------------------------------------------------------------\n",
    "#\n",
    "# TITLE - gaiadr2-apogee_dataset.ipynb\n",
    "# AUTHOR - James Lane\n",
    "# PROJECT - AST 1501\n",
    "#\n",
    "# ----------------------------------------------------------------------------\n",
    "#\n",
    "# Docstrings and metadata:\n",
    "'''\n",
    "Prepare the Gaia DR2-APOGEE dataset.\n",
    "'''\n",
    "\n",
    "__author__ = \"James Lane\""
   ]
  },
  {
   "cell_type": "code",
   "execution_count": 2,
   "metadata": {
    "collapsed": true
   },
   "outputs": [],
   "source": [
    "### Imports\n",
    "\n",
    "## Basic\n",
    "import numpy as np\n",
    "import sys, os, pdb\n",
    "# import glob\n",
    "# import subprocess\n",
    "\n",
    "## Plotting\n",
    "# from matplotlib import pyplot as plt\n",
    "# from matplotlib.backends.backend_pdf import PdfPages\n",
    "# from matplotlib import colors\n",
    "# from matplotlib import cm\n",
    "# import aplpy\n",
    "\n",
    "## Astropy\n",
    "from astropy.io import fits\n",
    "from astropy.coordinates import SkyCoord\n",
    "# from astropy import table\n",
    "from astropy import units as apu\n",
    "# from astropy import wcs\n",
    "from astropy.coordinates import CartesianDifferential\n",
    "\n",
    "## galpy & astroNN\n",
    "# from galpy import orbit\n",
    "# from galpy import potential\n",
    "from galpy.util import bovy_coords as gpcoords\n",
    "import astroNN.apogee"
   ]
  },
  {
   "cell_type": "markdown",
   "metadata": {},
   "source": [
    "# Load AstroNN catalogs and perform cuts"
   ]
  },
  {
   "cell_type": "code",
   "execution_count": 7,
   "metadata": {},
   "outputs": [
    {
     "name": "stdout",
     "output_type": "stream",
     "text": [
      "/Users/JamesLane/Software/Python/External/data/apogee/sdss_local_sas_mirror/dr14/apogee/spectro/redux/r8/stars/l31c/l31c.2/allStar-l31c.2.fits was found!\n"
     ]
    }
   ],
   "source": [
    "### Load catalogs\n",
    "\n",
    "# Names\n",
    "abundance_catalog = '../../data/astronn/astroNN_apogee_dr14_catalog.fits'\n",
    "distance_catalog = '../../data/astronn/apogee_dr14_nn_dist_0562.fits'\n",
    "apogee_catalog = astroNN.apogee.allstar(dr=14)\n",
    "\n",
    "# Load and extract data\n",
    "abund_file = fits.open(abundance_catalog)\n",
    "abund_data = abund_file[1].data\n",
    "dist_file = fits.open(distance_catalog)\n",
    "dist_data = dist_file[1].data\n",
    "ap_file = fits.open(apogee_catalog)\n",
    "ap_data = ap_file[1].data"
   ]
  },
  {
   "cell_type": "code",
   "execution_count": 17,
   "metadata": {
    "collapsed": true
   },
   "outputs": [],
   "source": [
    "### Read catalog values\n",
    "\n",
    "# ID, RA, Dec, logg, abundances, errors\n",
    "apid = abund_data['APOGEE_ID']\n",
    "locid = abund_data['LOCATION_ID']\n",
    "abunds = abund_data['astroNN']\n",
    "abunds_err = abund_data['astroNN_error']\n",
    "ra = abund_data['RA']\n",
    "dec = abund_data['DEC']\n",
    "logg, mg, si, ca, fe = abunds[:,[1,7,9,13,19]].T\n",
    "slogg, smg, ssi, sca, sfe = abunds_err[:,[1,7,9,13,19]].T\n",
    "\n",
    "# Distance, distance error, pmRA, pmDec\n",
    "dist = dist_data['pc'] / 1000 # In kpc\n",
    "sdist = dist_data['pc_error'] / 1000 # In kpc\n",
    "fsdist = sdist / dist\n",
    "pmra = dist_data['pmra']\n",
    "pmdec = dist_data['pmdec']\n",
    "\n",
    "# Radial velocity\n",
    "vrad = ap_data['VHELIO_AVG']\n",
    "\n",
    "# Make into a mega-array for easy cutting. Separate by floats and string\n",
    "all_data_str = np.array([apid, locid]).T\n",
    "all_data_flt = np.array([ra, dec, logg, mg, si, ca, fe, dist,\n",
    "                         slogg, smg, ssi, sca, sfe, sdist, pmra, \n",
    "                         pmdec, vrad ]).T"
   ]
  },
  {
   "cell_type": "code",
   "execution_count": 19,
   "metadata": {},
   "outputs": [
    {
     "name": "stdout",
     "output_type": "stream",
     "text": [
      "Number of stars remaining is: 117261\n",
      "This is about 42%\n"
     ]
    }
   ],
   "source": [
    "### Perform cuts\n",
    "\n",
    "# Find stars with logg error > 0.2 dex, \n",
    "# and fractional distance error > 0.2\n",
    "good_stars = np.where(  ( slogg < 0.2 ) &\n",
    "                        ( fsdist < 0.2 ) &\n",
    "                        ( logg < 3 ) &\n",
    "                        ( pmra != -9999 ) &\n",
    "                        ( pmdec != -9999 ) &\n",
    "                        ( ~np.isnan(pmra) ) &\n",
    "                        ( ~np.isnan(pmdec) )\n",
    "                     )[0]\n",
    "\n",
    "print('Number of stars remaining is: '+str(len(good_stars)))\n",
    "print('This is about '+str(int(100*len(good_stars)/len(apid)))+'%')\n",
    "\n",
    "# Cut the large arrays\n",
    "all_data_flt_good = all_data_flt[good_stars]\n",
    "all_data_str_good = all_data_str[good_stars]"
   ]
  },
  {
   "cell_type": "code",
   "execution_count": 21,
   "metadata": {
    "collapsed": true
   },
   "outputs": [],
   "source": [
    "# Unpack the data\n",
    "apid, locid = all_data_str_good.T\n",
    "ra, dec, logg, mg, si, ca, fe, dist, slogg, smg, ssi, sca, sfe, sdist, pmra, pmdec, vrad = all_data_flt_good.T\n",
    "\n",
    "### Make metallicities w.r.t. Fe\n",
    "\n",
    "mgfe = mg-fe\n",
    "sife = si-fe\n",
    "cafe = ca-fe"
   ]
  },
  {
   "cell_type": "markdown",
   "metadata": {},
   "source": [
    "# Convert to galactocentric coordinates"
   ]
  },
  {
   "cell_type": "code",
   "execution_count": 22,
   "metadata": {
    "collapsed": true
   },
   "outputs": [],
   "source": [
    "### First define the LSR frame:\n",
    "\n",
    "x_sun = 8.125 # Gravity team\n",
    "z_sun = 0.0208 # Bennett & Bovy 2018\n",
    "SgrA_pmra = 6.379 # Reid (2004)\n",
    "u = 11.1  # }\n",
    "v = 12.24 # } Schoenrich\n",
    "w = 7.25  # }\n",
    "v += (SgrA_pmra * x_sun * 4.74) # Gravity x Reid (2004) SgrA* PM"
   ]
  },
  {
   "cell_type": "code",
   "execution_count": 23,
   "metadata": {
    "collapsed": true
   },
   "outputs": [],
   "source": [
    "### Make SkyCoord\n",
    "\n",
    "# Initiate with LSR kinematics from above.\n",
    "coords = SkyCoord(ra = ra*apu.degree,\n",
    "                  dec = dec*apu.degree,\n",
    "                  distance = dist*apu.kpc,\n",
    "                  pm_ra_cosdec = pmra*apu.mas/apu.yr,\n",
    "                  pm_dec = pmdec*apu.mas/apu.yr,\n",
    "                  radial_velocity = vrad*apu.km/apu.s,\n",
    "                  galcen_distance = x_sun*apu.kpc,\n",
    "                  z_sun = z_sun*apu.kpc,\n",
    "                  galcen_v_sun = CartesianDifferential([u, v, w]*apu.km/apu.s))"
   ]
  },
  {
   "cell_type": "code",
   "execution_count": 24,
   "metadata": {
    "collapsed": true
   },
   "outputs": [],
   "source": [
    "### Transform into new frames\n",
    "\n",
    "coords_gal = coords.transform_to('galactic')\n",
    "coords_gc = coords.transform_to('galactocentric')\n",
    "\n",
    "# Get galactic proper motions in mas/yr\n",
    "pmll = coords_gal.pm_l_cosb.value\n",
    "pmbb = coords_gal.pm_b.value\n",
    "\n",
    "# Get galactocentric positions in kpc\n",
    "gc_x = coords_gc.x.value # * -1 # Flip for LH\n",
    "gc_y = coords_gc.y.value\n",
    "gc_z = coords_gc.z.value\n",
    "\n",
    "# Get galactocentric velocities in km/s\n",
    "gc_vx = coords_gc.v_x.value\n",
    "gc_vy = coords_gc.v_y.value\n",
    "gc_vz = coords_gc.v_z.value\n"
   ]
  },
  {
   "cell_type": "markdown",
   "metadata": {},
   "source": [
    "# Save the new dataset"
   ]
  },
  {
   "cell_type": "code",
   "execution_count": 31,
   "metadata": {},
   "outputs": [],
   "source": [
    "### Save the new dataset\n",
    "\n",
    "from astropy import table\n",
    "\n",
    "# Make names\n",
    "out_names = ('APOGEE_ID',\n",
    "             'LOCATION_ID',\n",
    "             'X',\n",
    "             'Y',\n",
    "             'Z',\n",
    "             'VX',\n",
    "             'VY',\n",
    "             'VZ'\n",
    "            )\n",
    "\n",
    "out_dtypes = ('U20',\n",
    "              'U20',\n",
    "              'float',\n",
    "              'float',\n",
    "              'float',\n",
    "              'float',\n",
    "              'float',\n",
    "              'float')\n",
    "\n",
    "out_data = [apid,\n",
    "           locid, \n",
    "           gc_x,\n",
    "           gc_y,\n",
    "           gc_z,\n",
    "           gc_vx,\n",
    "           gc_vy,\n",
    "           gc_vz]\n",
    "\n",
    "out_tab = table.Table(out_data, names=out_names, dtype=out_dtypes)\n",
    "out_tab.write('gaiadr2-apogee_dataset.FIT', overwrite=True)\n"
   ]
  },
  {
   "cell_type": "markdown",
   "metadata": {},
   "source": [
    "### End"
   ]
  }
 ],
 "metadata": {
  "kernelspec": {
   "display_name": "Python 3",
   "language": "python",
   "name": "python3"
  },
  "language_info": {
   "codemirror_mode": {
    "name": "ipython",
    "version": 3
   },
   "file_extension": ".py",
   "mimetype": "text/x-python",
   "name": "python",
   "nbconvert_exporter": "python",
   "pygments_lexer": "ipython3",
   "version": "3.6.3"
  }
 },
 "nbformat": 4,
 "nbformat_minor": 2
}
