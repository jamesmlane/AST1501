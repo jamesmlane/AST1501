{
 "cells": [
  {
   "cell_type": "code",
   "execution_count": 1,
   "metadata": {
    "collapsed": true
   },
   "outputs": [],
   "source": [
    "# ----------------------------------------------------------------------------\n",
    "#\n",
    "# TITLE - gaiadr2-apogee_dataset.ipynb\n",
    "# AUTHOR - James Lane\n",
    "# PROJECT - AST 1501\n",
    "#\n",
    "# ----------------------------------------------------------------------------\n",
    "#\n",
    "# Docstrings and metadata:\n",
    "'''\n",
    "Prepare the Gaia DR2-APOGEE dataset.\n",
    "'''\n",
    "\n",
    "__author__ = \"James Lane\""
   ]
  },
  {
   "cell_type": "code",
   "execution_count": 2,
   "metadata": {
    "collapsed": true
   },
   "outputs": [],
   "source": [
    "### Imports\n",
    "\n",
    "## Basic\n",
    "import numpy as np\n",
    "import sys, os, pdb\n",
    "\n",
    "## Astropy\n",
    "from astropy.io import fits\n",
    "from astropy.coordinates import SkyCoord\n",
    "from astropy import table\n",
    "from astropy import units as apu\n",
    "from astropy.coordinates import CartesianDifferential\n",
    "\n",
    "## galpy & astroNN\n",
    "from galpy.util import bovy_coords as gpcoords\n",
    "import astroNN.apogee"
   ]
  },
  {
   "cell_type": "code",
   "execution_count": 3,
   "metadata": {
    "collapsed": true
   },
   "outputs": [],
   "source": [
    "### Change Jupyter settings\n",
    "\n",
    "from IPython.core.interactiveshell import InteractiveShell\n",
    "from IPython.display import Markdown, display\n",
    "from IPython.core.debugger import set_trace\n",
    "\n",
    "# Matplotlib for notebooks\n",
    "%matplotlib inline\n",
    "%config InlineBackend.figure_format = 'retina'\n",
    "\n",
    "# pretty print all cell's output and not just the last one\n",
    "InteractiveShell.ast_node_interactivity = \"all\"\n",
    "\n",
    "# Print using markdown\n",
    "def printmd(string, color=None):\n",
    "    colorstr = \"<span style='color:{}'>{}</span>\".format(color, string)\n",
    "    display(Markdown(colorstr))"
   ]
  },
  {
   "cell_type": "markdown",
   "metadata": {},
   "source": [
    "# Meta\n",
    "\n",
    "## Future work\n",
    "- Include errors on Galactocentric quantities. Using MC approach?\n",
    "- Output abundances, $\\log g$ and $T_{eff}$ along with kinematic parameters\n",
    "\n",
    "## Information\n",
    "- APOGEE DR14 data model listed [here](https://data.sdss.org/datamodel/files/APOGEE_REDUX/APRED_VERS/APSTAR_VERS/ASPCAP_VERS/RESULTS_VERS/allStar.html)"
   ]
  },
  {
   "cell_type": "markdown",
   "metadata": {},
   "source": [
    "# Load\n",
    "Load AstroNN catalogs and APOGEE catalogs"
   ]
  },
  {
   "cell_type": "code",
   "execution_count": 4,
   "metadata": {},
   "outputs": [
    {
     "name": "stdout",
     "output_type": "stream",
     "text": [
      "/Users/JamesLane/Software/Python/anaconda3/envs/ast1501/lib/python3.6/importlib/_bootstrap.py:219: RuntimeWarning: compiletime version 3.5 of module 'tensorflow.python.framework.fast_tensor_util' does not match runtime version 3.6\n",
      "  return f(*args, **kwds)\n",
      "\n",
      "/Users/JamesLane/Software/Python/anaconda3/envs/ast1501/lib/python3.6/site-packages/h5py/__init__.py:34: FutureWarning: Conversion of the second argument of issubdtype from `float` to `np.floating` is deprecated. In future, it will be treated as `np.float64 == np.dtype(float).type`.\n",
      "  from ._conv import register_converters as _register_converters\n",
      "\n",
      "/Users/JamesLane/Software/Python/External/data/apogee/sdss_local_sas_mirror/dr14/apogee/spectro/redux/r8/stars/l31c/l31c.2/allStar-l31c.2.fits was found!\n"
     ]
    }
   ],
   "source": [
    "### Load catalogs\n",
    "\n",
    "# Names\n",
    "abundance_catalog = '../../data/astronn/astroNN_apogee_dr14_catalog.fits'\n",
    "distance_catalog = '../../data/astronn/apogee_dr14_nn_dist_0562.fits'\n",
    "apogee_catalog = astroNN.apogee.allstar(dr=14)\n",
    "\n",
    "# Load and extract data\n",
    "abund_file = fits.open(abundance_catalog)\n",
    "abund_data = abund_file[1].data\n",
    "dist_file = fits.open(distance_catalog)\n",
    "dist_data = dist_file[1].data\n",
    "ap_file = fits.open(apogee_catalog)\n",
    "ap_data = ap_file[1].data"
   ]
  },
  {
   "cell_type": "code",
   "execution_count": 15,
   "metadata": {
    "collapsed": true
   },
   "outputs": [],
   "source": [
    "### For debugging or searching\n",
    "# print(abund_data.columns)\n",
    "# print(dist_data.columns)\n",
    "# print(ap_data.columns)"
   ]
  },
  {
   "cell_type": "code",
   "execution_count": 17,
   "metadata": {
    "collapsed": true
   },
   "outputs": [],
   "source": [
    "### Read catalog values\n",
    "\n",
    "# ID, RA, Dec, logg, abundances, errors\n",
    "apid = abund_data['APOGEE_ID']\n",
    "locid = abund_data['LOCATION_ID']\n",
    "abunds = abund_data['astroNN']\n",
    "abunds_err = abund_data['astroNN_error']\n",
    "ra = abund_data['RA']\n",
    "dec = abund_data['DEC']\n",
    "logg, mg, si, ca, fe = abunds[:,[1,7,9,13,19]].T\n",
    "slogg, smg, ssi, sca, sfe = abunds_err[:,[1,7,9,13,19]].T\n",
    "\n",
    "# Distance, distance error, pmRA, pmDec\n",
    "dist = dist_data['pc'] / 1000 # In kpc\n",
    "sdist = dist_data['pc_error'] / 1000 # In kpc\n",
    "fsdist = sdist / dist\n",
    "pmra = dist_data['pmra']\n",
    "pmdec = dist_data['pmdec']\n",
    "\n",
    "# Radial velocity\n",
    "vhelio = ap_data['VHELIO_AVG']\n",
    "svhelio = ap_data['VERR']\n",
    "\n",
    "# Make into a mega-array for easy cutting. Separate by floats and string\n",
    "all_data_str = np.array([apid, locid]).T\n",
    "all_data_flt = np.array([ra, dec, logg, mg, si, ca, fe, dist,\n",
    "                         slogg, smg, ssi, sca, sfe, sdist, pmra, \n",
    "                         pmdec, vhelio, svhelio ]).T"
   ]
  },
  {
   "cell_type": "markdown",
   "metadata": {},
   "source": [
    "# Perform cuts\n",
    "Cut the data based on:\n",
    "- $\\sigma_{\\log g} < 0.2$\n",
    "- $\\sigma_{d}/d < 0.2$\n",
    "- $\\log g < 3$\n",
    "- $\\mu_{\\alpha}$ and $\\mu_{\\delta}$ not $-9999$ or NaN"
   ]
  },
  {
   "cell_type": "code",
   "execution_count": 18,
   "metadata": {},
   "outputs": [
    {
     "name": "stdout",
     "output_type": "stream",
     "text": [
      "Number of stars remaining is: 117261\n",
      "This is about 42%\n"
     ]
    }
   ],
   "source": [
    "### Perform cuts\n",
    "\n",
    "# Find stars with logg error > 0.2 dex, \n",
    "# and fractional distance error > 0.2\n",
    "good_stars = np.where(  ( slogg < 0.2 ) &\n",
    "                        ( fsdist < 0.2 ) &\n",
    "                        ( logg < 3 ) &\n",
    "                        ( pmra != -9999 ) &\n",
    "                        ( pmdec != -9999 ) &\n",
    "                        ( ~np.isnan(pmra) ) &\n",
    "                        ( ~np.isnan(pmdec) )\n",
    "                     )[0]\n",
    "\n",
    "print('Number of stars remaining is: '+str(len(good_stars)))\n",
    "print('This is about '+str(int(100*len(good_stars)/len(apid)))+'%')\n",
    "\n",
    "# Cut the large arrays\n",
    "all_data_flt_good = all_data_flt[good_stars]\n",
    "all_data_str_good = all_data_str[good_stars]"
   ]
  },
  {
   "cell_type": "code",
   "execution_count": 19,
   "metadata": {
    "collapsed": true
   },
   "outputs": [],
   "source": [
    "# Unpack the data\n",
    "apid, locid = all_data_str_good.T\n",
    "ra, dec, logg, mg, si, ca, fe, dist, slogg, smg, ssi, sca, sfe, sdist, pmra, pmdec, vhelio, svhelio = all_data_flt_good.T\n",
    "\n",
    "### Make metallicities w.r.t. Iron\n",
    "\n",
    "mgfe = mg-fe\n",
    "sife = si-fe\n",
    "cafe = ca-fe"
   ]
  },
  {
   "cell_type": "markdown",
   "metadata": {},
   "source": [
    "# Convert \n",
    "Convert all data to galactocentric coordinates"
   ]
  },
  {
   "cell_type": "code",
   "execution_count": 20,
   "metadata": {
    "collapsed": true
   },
   "outputs": [],
   "source": [
    "### First define the LSR frame:\n",
    "\n",
    "x_sun = 8.125 # Gravity team\n",
    "z_sun = 0.0208 # Bennett & Bovy 2018\n",
    "SgrA_pmra = 6.379 # Reid (2004)\n",
    "u = 11.1  # }\n",
    "v = 12.24 # } Schoenrich\n",
    "w = 7.25  # }\n",
    "v += (SgrA_pmra * x_sun * 4.74) # Gravity x Reid (2004) SgrA* PM"
   ]
  },
  {
   "cell_type": "code",
   "execution_count": 22,
   "metadata": {
    "collapsed": true
   },
   "outputs": [],
   "source": [
    "### Make SkyCoord\n",
    "\n",
    "# Initiate with LSR kinematics from above.\n",
    "coords = SkyCoord(ra = ra*apu.degree,\n",
    "                  dec = dec*apu.degree,\n",
    "                  distance = dist*apu.kpc,\n",
    "                  pm_ra_cosdec = pmra*apu.mas/apu.yr,\n",
    "                  pm_dec = pmdec*apu.mas/apu.yr,\n",
    "                  radial_velocity = vhelio*apu.km/apu.s,\n",
    "                  galcen_distance = x_sun*apu.kpc,\n",
    "                  z_sun = z_sun*apu.kpc,\n",
    "                  galcen_v_sun = CartesianDifferential([u, v, w]*apu.km/apu.s))"
   ]
  },
  {
   "cell_type": "code",
   "execution_count": 23,
   "metadata": {
    "collapsed": true
   },
   "outputs": [],
   "source": [
    "### Transform into new frames\n",
    "\n",
    "coords_gal = coords.transform_to('galactic')\n",
    "coords_gc = coords.transform_to('galactocentric')\n",
    "\n",
    "# Get galactic proper motions in mas/yr\n",
    "pmll = coords_gal.pm_l_cosb.value\n",
    "pmbb = coords_gal.pm_b.value\n",
    "\n",
    "# Get galactocentric positions in kpc\n",
    "gc_x = coords_gc.x.value # * -1 # Flip for LH\n",
    "gc_y = coords_gc.y.value\n",
    "gc_z = coords_gc.z.value\n",
    "\n",
    "# Get galactocentric velocities in km/s\n",
    "gc_vx = coords_gc.v_x.value\n",
    "gc_vy = coords_gc.v_y.value\n",
    "gc_vz = coords_gc.v_z.value"
   ]
  },
  {
   "cell_type": "markdown",
   "metadata": {},
   "source": [
    "# Save\n",
    "Save the new dataset"
   ]
  },
  {
   "cell_type": "code",
   "execution_count": 27,
   "metadata": {},
   "outputs": [],
   "source": [
    "### Save the new dataset\n",
    "\n",
    "from astropy import table\n",
    "\n",
    "# Make names\n",
    "out_names = ('APOGEE_ID',\n",
    "             'LOCATION_ID',\n",
    "             'RA',\n",
    "             'DEC',\n",
    "             'DIST',\n",
    "             'DIST_ERR',\n",
    "             'VHELIO',\n",
    "             'VHELIO_ERR',\n",
    "             'PM_RA',\n",
    "             'PM_DEC',\n",
    "             'PM_LL',\n",
    "             'PM_BB',\n",
    "             'X',\n",
    "             'Y',\n",
    "             'Z',\n",
    "             'VX',\n",
    "             'VY',\n",
    "             'VZ'\n",
    "            )\n",
    "\n",
    "# Data types\n",
    "out_dtypes = ('U20', # ID\n",
    "              'U20', # ID\n",
    "              'float', # RA\n",
    "              'float', # DEC\n",
    "              'float', # DIST\n",
    "              'float', # DIST_ERR\n",
    "              'float', # VHELIO\n",
    "              'float', # VHELIO_ERR\n",
    "              'float', # PM_RA\n",
    "              'float', # PM_DEC\n",
    "              'float', # PM_LL\n",
    "              'float', # PM_BB\n",
    "              'float', # X\n",
    "              'float', # Y\n",
    "              'float', # Z\n",
    "              'float', # VX\n",
    "              'float', # VY\n",
    "              'float') # VZ\n",
    "\n",
    "out_data = [apid,\n",
    "            locid, \n",
    "            ra,\n",
    "            dec,\n",
    "            dist,\n",
    "            sdist,\n",
    "            vhelio,\n",
    "            svhelio,\n",
    "            pmra,\n",
    "            pmdec,\n",
    "            pmll,\n",
    "            pmbb,\n",
    "            gc_x,\n",
    "            gc_y,\n",
    "            gc_z,\n",
    "            gc_vx,\n",
    "            gc_vy,\n",
    "            gc_vz]\n",
    "\n",
    "out_tab = table.Table(out_data, names=out_names, dtype=out_dtypes)\n",
    "out_tab.write('../../data/generated/gaiadr2-apogee_dataset.FIT', overwrite=True)"
   ]
  },
  {
   "cell_type": "markdown",
   "metadata": {},
   "source": [
    "# End"
   ]
  }
 ],
 "metadata": {
  "kernelspec": {
   "display_name": "Python 3",
   "language": "python",
   "name": "python3"
  },
  "language_info": {
   "codemirror_mode": {
    "name": "ipython",
    "version": 3
   },
   "file_extension": ".py",
   "mimetype": "text/x-python",
   "name": "python",
   "nbconvert_exporter": "python",
   "pygments_lexer": "ipython3",
   "version": "3.6.3"
  }
 },
 "nbformat": 4,
 "nbformat_minor": 2
}
