{
 "cells": [
  {
   "cell_type": "code",
   "execution_count": 1,
   "metadata": {},
   "outputs": [],
   "source": [
    "# ----------------------------------------------------------------------------\n",
    "#\n",
    "# TITLE - triaxial_potential_DF.ipynb\n",
    "# AUTHOR - James Lane\n",
    "# PROJECT - AST 1501\n",
    "#\n",
    "# ----------------------------------------------------------------------------\n",
    "#\n",
    "# Docstrings and metadata:\n",
    "'''\n",
    "Calculate the actions around the strange features in the triaxial DF\n",
    "'''\n",
    "\n",
    "__author__ = \"James Lane\""
   ]
  },
  {
   "cell_type": "code",
   "execution_count": 2,
   "metadata": {},
   "outputs": [],
   "source": [
    "## Imports\n",
    "\n",
    "## Basic\n",
    "import numpy as np\n",
    "import sys, os, pdb\n",
    "import copy\n",
    "import time\n",
    "from tqdm import tqdm_notebook as tqdm_nb\n",
    "\n",
    "## Plotting\n",
    "import matplotlib\n",
    "from matplotlib import pyplot as plt\n",
    "from matplotlib import animation\n",
    "from matplotlib import colors\n",
    "from matplotlib import cm\n",
    "\n",
    "## Astropy\n",
    "from astropy import units as apu\n",
    "from astropy.io import fits\n",
    "\n",
    "## galpy\n",
    "from galpy import orbit\n",
    "from galpy import potential\n",
    "from galpy import df\n",
    "from galpy.actionAngle import actionAngleAdiabatic\n",
    "from galpy.actionAngle import actionAngleStaeckel\n",
    "from galpy.util import bovy_coords as gpcoords\n",
    "from galpy.util import bovy_conversion as gpconv\n",
    "\n",
    "## Scipy\n",
    "from scipy.stats import binned_statistic_2d, binned_statistic\n",
    "from scipy.optimize import curve_fit\n",
    "from scipy.interpolate import griddata\n",
    "\n",
    "## Add project-specific package. Assume relative location\n",
    "sys.path.append('../../src/')\n",
    "import ast1501.potential\n",
    "import ast1501.util\n",
    "import ast1501.fourier"
   ]
  },
  {
   "cell_type": "code",
   "execution_count": 3,
   "metadata": {},
   "outputs": [],
   "source": [
    "# Matplotlib for notebooks\n",
    "%matplotlib inline\n",
    "%config InlineBackend.figure_format = 'retina'"
   ]
  },
  {
   "cell_type": "markdown",
   "metadata": {},
   "source": [
    "# Meta\n",
    "\n",
    "## Future work\n",
    "\n",
    "## Information\n",
    "- Scipy re-gridding function"
   ]
  },
  {
   "cell_type": "code",
   "execution_count": 38,
   "metadata": {},
   "outputs": [],
   "source": [
    "def plot_grid(hist, vmin, vmax, extent, cmap):\n",
    "\n",
    "    # Plot the image. Rotate to account for histogram => plotting grid\n",
    "    img = ax.imshow(np.rot90(hist), interpolation='nearest',\n",
    "                    extent=extent, cmap=cmap, vmin=vmin, vmax=vmax)\n",
    "    \n",
    "    # Add the image masks. Assumes same geometry as hist.\n",
    "#     if plot_low_N_mask == True:\n",
    "#         img_mask = ax.imshow(np.rot90(low_N_mask), interpolation='nearest',\n",
    "#                              extent=extent)\n",
    "#     img_mask = ax.imshow(np.rot90(no_N_mask), interpolation='nearest',\n",
    "#                          extent=extent)\n",
    "\n",
    "    # Colorbar\n",
    "    cbar = plt.colorbar(img)\n",
    "    \n",
    "    # Add the sun and it's orbit\n",
    "    ax.scatter(x_sun, 0, marker=r'$\\odot$', color='Black', s=256)\n",
    "    orbit_circle = plt.Circle((0, 0), x_sun, edgecolor='Black', facecolor='None')\n",
    "    ax.add_artist(orbit_circle)\n",
    "    \n",
    "    # Decorate\n",
    "    ax.set_xlabel(r'X$_{GC}$ [kpc]')\n",
    "    ax.set_ylabel(r'Y$_{GC}$ [kpc]')\n",
    "    ax.set_xlim(x_lo, x_hi)\n",
    "    ax.set_ylim(y_lo, y_hi)\n",
    "    ax.tick_params(direction='in', top='on', right='on')\n",
    "    \n",
    "    return fig, ax, cbar\n",
    "#def"
   ]
  },
  {
   "cell_type": "markdown",
   "metadata": {},
   "source": [
    "# Load simulated Data"
   ]
  },
  {
   "cell_type": "code",
   "execution_count": 4,
   "metadata": {},
   "outputs": [
    {
     "name": "stdout",
     "output_type": "stream",
     "text": [
      "\n",
      "Radii for b=1.2\n",
      "7.5 kpc\n",
      "8.5 kpc\n",
      "9.5 kpc\n",
      "10.5 kpc\n",
      "11.5 kpc\n",
      "12.5 kpc\n",
      "13.5 kpc\n",
      "14.5 kpc\n",
      "\n",
      "Radii for b=0.9\n",
      "7.5 kpc\n",
      "8.5 kpc\n",
      "9.5 kpc\n",
      "10.5 kpc\n",
      "11.5 kpc\n",
      "12.5 kpc\n",
      "13.5 kpc\n",
      "14.5 kpc\n"
     ]
    }
   ],
   "source": [
    "sim_halo_data_b12 = np.load('data/data_R7.5-14.5_b12.npy')\n",
    "print('\\nRadii for b=1.2')\n",
    "for i in range( sim_halo_data_b12.shape[0] ):\n",
    "    print( str(sim_halo_data_b12[i][0])+' kpc' )\n",
    "###i\n",
    "\n",
    "sim_halo_data_b09 = np.load('data/data_R7.5-14.5_b09.npy')\n",
    "print('\\nRadii for b=0.9')\n",
    "for i in range( sim_halo_data_b09.shape[0] ):\n",
    "    print( str(sim_halo_data_b09[i][0])+' kpc' )\n",
    "###i"
   ]
  },
  {
   "cell_type": "code",
   "execution_count": 5,
   "metadata": {},
   "outputs": [
    {
     "data": {
      "text/plain": [
       "8"
      ]
     },
     "execution_count": 5,
     "metadata": {},
     "output_type": "execute_result"
    }
   ],
   "source": [
    "len(sim_halo_data_b12)"
   ]
  },
  {
   "cell_type": "markdown",
   "metadata": {},
   "source": [
    "# Define the re-gridding function"
   ]
  },
  {
   "cell_type": "code",
   "execution_count": 42,
   "metadata": {},
   "outputs": [],
   "source": [
    "def regrid_polar_rect(data_r, data_phi, data_vals, grid_x, grid_y, method='cubic'):\n",
    "    \n",
    "    # First we must translate the polar coordinates into data coordinates\n",
    "    data_x = -np.cos( data_phi ) * data_r\n",
    "    data_y = np.sin( data_phi ) * data_r\n",
    "    \n",
    "    # Now construct the array to feed to griddata\n",
    "    data_posns = np.array([ data_x, data_y ]).T\n",
    "    \n",
    "    # Now make the new grid\n",
    "    grid_data = griddata( data_posns, data_vals, (grid_x, grid_y), method=method )\n",
    "    \n",
    "    return grid_data"
   ]
  },
  {
   "cell_type": "markdown",
   "metadata": {},
   "source": [
    "# Attempt to re-grid b12"
   ]
  },
  {
   "cell_type": "code",
   "execution_count": 43,
   "metadata": {},
   "outputs": [],
   "source": [
    "# Construct the linear data position arrays by looping over the input data\n",
    "\n",
    "r_data = np.array([])\n",
    "phi_data = np.array([])\n",
    "vr_data = np.array([])\n",
    "vt_data = np.array([])\n",
    "\n",
    "for i in range( len(sim_halo_data_b12) ):\n",
    "    \n",
    "    # Get the azimuth and radius data arrays\n",
    "    phi_data_append = sim_halo_data_b12[i][1]\n",
    "    r_data_append = np.ones_like( phi_data_append ) * sim_halo_data_b12[i][0]\n",
    "    vr_data_append = sim_halo_data_b12[i][2]\n",
    "    vt_data_append = sim_halo_data_b12[i][3]\n",
    "    \n",
    "    # Now append to the data \n",
    "    phi_data = np.append( phi_data, phi_data_append )\n",
    "    r_data = np.append( r_data, r_data_append )\n",
    "    vr_data = np.append( vr_data, vr_data_append )\n",
    "    vt_data = np.append( vt_data, vt_data_append )\n",
    "    \n",
    "###i"
   ]
  },
  {
   "cell_type": "markdown",
   "metadata": {},
   "source": [
    "## Decide rectangular gridding parameters"
   ]
  },
  {
   "cell_type": "code",
   "execution_count": 60,
   "metadata": {},
   "outputs": [],
   "source": [
    "# Bins per dimension\n",
    "n_xbins = 20j\n",
    "n_ybins = 40j\n",
    "\n",
    "# Ranges\n",
    "x_hi = -5\n",
    "x_lo = -15\n",
    "y_hi = 10\n",
    "y_lo = -10\n",
    "bin_range = [ [x_lo,x_hi], [y_lo,y_hi] ]\n",
    "\n",
    "# Deltas\n",
    "dx = (x_hi-x_lo)/n_xbins\n",
    "dy = (y_hi-y_lo)/n_ybins\n",
    "\n",
    "grid_x, grid_y = np.mgrid[ x_lo:x_hi:n_xbins, y_lo:y_hi:n_ybins ]"
   ]
  },
  {
   "cell_type": "code",
   "execution_count": 61,
   "metadata": {},
   "outputs": [],
   "source": [
    "grid_vr = regrid_polar_rect( r_data, phi_data, vr_data, grid_x, grid_y )"
   ]
  },
  {
   "cell_type": "code",
   "execution_count": 62,
   "metadata": {},
   "outputs": [],
   "source": [
    "x_sun = -8.125"
   ]
  },
  {
   "cell_type": "code",
   "execution_count": 63,
   "metadata": {},
   "outputs": [
    {
     "data": {
      "image/png": "[encoded data removed]",
      "text/plain": [
       "<matplotlib.figure.Figure at 0x1a254f4978>"
      ]
     },
     "metadata": {
      "image/png": {
       "height": 318,
       "width": 411
      }
     },
     "output_type": "display_data"
    }
   ],
   "source": [
    "fig = plt.figure(figsize=(6,5))\n",
    "ax = fig.add_subplot(111)\n",
    "\n",
    "fig, ax, cbar = plot_grid(grid_vr, -10, 10, [x_lo,x_hi,y_lo,y_hi], 'RdYlBu')\n",
    "\n",
    "cbar.set_label(r'V$_{R}$')\n",
    "ax.set_aspect('auto')\n",
    "\n",
    "plt.show()\n",
    "fig.savefig('VR_gridded_B12.pdf')\n",
    "plt.close('all')"
   ]
  },
  {
   "cell_type": "code",
   "execution_count": null,
   "metadata": {},
   "outputs": [],
   "source": []
  }
 ],
 "metadata": {
  "kernelspec": {
   "display_name": "Python 3",
   "language": "python",
   "name": "python3"
  },
  "language_info": {
   "codemirror_mode": {
    "name": "ipython",
    "version": 3
   },
   "file_extension": ".py",
   "mimetype": "text/x-python",
   "name": "python",
   "nbconvert_exporter": "python",
   "pygments_lexer": "ipython3",
   "version": "3.6.3"
  }
 },
 "nbformat": 4,
 "nbformat_minor": 2
}
