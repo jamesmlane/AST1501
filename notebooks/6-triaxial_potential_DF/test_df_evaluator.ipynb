{
 "cells": [
  {
   "cell_type": "code",
   "execution_count": null,
   "metadata": {},
   "outputs": [],
   "source": [
    "# ----------------------------------------------------------------------------\n",
    "#\n",
    "# TITLE - triaxial_potential_DF.ipynb\n",
    "# AUTHOR - James Lane\n",
    "# PROJECT - AST 1501\n",
    "#\n",
    "# ----------------------------------------------------------------------------\n",
    "#\n",
    "# Docstrings and metadata:\n",
    "'''\n",
    "Calculate the actions around the strange features in the triaxial DF\n",
    "'''\n",
    "\n",
    "__author__ = \"James Lane\""
   ]
  },
  {
   "cell_type": "code",
   "execution_count": null,
   "metadata": {},
   "outputs": [],
   "source": [
    "## Imports\n",
    "\n",
    "## Basic\n",
    "import numpy as np\n",
    "import sys, os, pdb\n",
    "import copy\n",
    "import time\n",
    "from tqdm import tqdm_notebook as tqdm_nb\n",
    "import importlib\n",
    "\n",
    "## Plotting\n",
    "import matplotlib\n",
    "from matplotlib import pyplot as plt\n",
    "from matplotlib import animation\n",
    "from matplotlib import colors\n",
    "from matplotlib import cm\n",
    "# import aplpy\n",
    "\n",
    "## Astropy\n",
    "from astropy import units as apu\n",
    "\n",
    "## galpy\n",
    "from galpy import orbit\n",
    "from galpy import potential\n",
    "from galpy import df\n",
    "from galpy.actionAngle import actionAngleAdiabatic\n",
    "from galpy.actionAngle import actionAngleStaeckel\n",
    "from galpy.util import bovy_coords as gpcoords\n",
    "from galpy.util import bovy_conversion as gpconv\n",
    "\n",
    "## Add project-specific package. Assume relative location\n",
    "sys.path.append('../../src/')\n",
    "import ast1501.potential\n",
    "import ast1501.util\n",
    "import ast1501.df"
   ]
  },
  {
   "cell_type": "code",
   "execution_count": 3,
   "metadata": {},
   "outputs": [],
   "source": [
    "# Matplotlib for notebooks\n",
    "%matplotlib inline\n",
    "%config InlineBackend.figure_format = 'retina'"
   ]
  },
  {
   "cell_type": "markdown",
   "metadata": {},
   "source": [
    "# Meta\n",
    "\n",
    "## Future work\n",
    "- Go in depth into the functions that calculate the radial action\n",
    "\n",
    "## Information\n",
    "- Galpy notes on the DF: https://galpy.readthedocs.io/en/latest/diskdf.html\n",
    "- Galpy notes on the actions: https://galpy.readthedocs.io/en/latest/actionAngle.html"
   ]
  },
  {
   "cell_type": "markdown",
   "metadata": {},
   "source": [
    "# Prepare\n",
    "Declare the keywords for the analysis, make the potential, and the DF"
   ]
  },
  {
   "cell_type": "markdown",
   "metadata": {},
   "source": [
    "## Keywords and Functions"
   ]
  },
  {
   "cell_type": "code",
   "execution_count": 4,
   "metadata": {},
   "outputs": [],
   "source": [
    "### Keywords\n",
    "\n",
    "# Halo evolution\n",
    "t_evolve = 10 # Gyr\n",
    "tform = -9 # Gyr ago\n",
    "tsteady = 8 # Gyr after tform\n",
    "\n",
    "# The times over which each orbit will be integrated\n",
    "times = -np.array([0,t_evolve]) * apu.Gyr"
   ]
  },
  {
   "cell_type": "code",
   "execution_count": 5,
   "metadata": {},
   "outputs": [],
   "source": [
    "### Function definitions\n",
    "\n",
    "def gen_vRvT_1D(dvT, dvR, vR_low, vR_hi, vT_low, vT_hi):\n",
    "    \n",
    "    # Generate the velocity range\n",
    "    vR_range = np.arange( vR_low, vR_hi, dvR )\n",
    "    vT_range = np.arange( vT_low, vT_hi, dvT )\n",
    "\n",
    "    # Generate the array of distribution function values\n",
    "    dfp = np.zeros((len(vR_range),len(vT_range)))\n",
    "    df0 = np.zeros((len(vR_range),len(vT_range)))\n",
    "\n",
    "    # Output information\n",
    "    print( str(len(vR_range)*len(vT_range))+' independent velocities' )\n",
    "    print( str(len(vR_range))+' Between vR=['+str(round(np.amin(vR_range)))+','+str(round(np.amax(vR_range)))+']')\n",
    "    print( str(len(vR_range))+' Between vR=['+str(round(np.amin(vT_range)))+','+str(round(np.amax(vT_range)))+']')\n",
    "    print('\\n')\n",
    "    print(vR_range)\n",
    "    print(vT_range)\n",
    "    print('\\n')\n",
    "    \n",
    "    return df0, dfp, vR_range, vT_range\n",
    "#def\n",
    "\n",
    "def eval_df(vxvv, times, pot, vR_range, vT_range, df0, dfp):\n",
    "    \n",
    "    vxvv_use = copy.deepcopy(vxvv)\n",
    "    for j in tqdm_nb( range( len(vR_range) ) ):\n",
    "        for k in range( len(vT_range) ):\n",
    "\n",
    "            # Make the orbit\n",
    "            vxvv_use[1] = vR_range[j]*apu.km/apu.s\n",
    "            vxvv_use[2] = vT_range[k]*apu.km/apu.s\n",
    "            o = orbit.Orbit(vxvv=vxvv_use)\n",
    "\n",
    "            # Evaluate the unperturbed distribution function if this is the first run-through    \n",
    "            df0[j,k] = qdf(o)\n",
    "\n",
    "            # Now evaluate the perturbed distribution function\n",
    "            o.integrate(times, pot)\n",
    "            dfp[j,k] = qdf( o(times[-1]) )\n",
    "        ###k\n",
    "    ###j\n",
    "    \n",
    "    return df0, dfp\n",
    "#def\n",
    "\n",
    "def eval_act(vxvv, times, tripot_grow, qdf_aA, vR_range, vT_range, act0, actp, return_kin=False):\n",
    "    \n",
    "    if return_kin:\n",
    "        end_kin = np.zeros((3,len(vR_range),len(vT_range)))\n",
    "    ##fi\n",
    "    \n",
    "    vxvv_use = copy.deepcopy(vxvv)\n",
    "    for j in tqdm_nb( range( len(vR_range) ) ):\n",
    "        for k in range( len(vT_range) ):\n",
    "\n",
    "            # Make the orbit\n",
    "            vxvv_use[1] = vR_range[j]*apu.km/apu.s\n",
    "            vxvv_use[2] = vT_range[k]*apu.km/apu.s\n",
    "            o = orbit.Orbit(vxvv=vxvv_use)\n",
    "\n",
    "            # Get the actions, angles and frequencies for the unperturbed orbit\n",
    "            act0[0,j,k],act0[1,j,k],act0[2,j,k] = qdf_aA(o)\n",
    "\n",
    "            # Integrate the orbit and evaluate \n",
    "            o.integrate(times, tripot_grow)\n",
    "            actp[0,j,k],actp[1,j,k],actp[2,j,k] = qdf_aA( o(times[-1]) )\n",
    "            \n",
    "            if return_kin:\n",
    "                end_kin[0,j,k] = o.R(times[-1]).value\n",
    "                end_kin[1,j,k] = o.vR(times[-1]).value\n",
    "                end_kin[2,j,k] = o.vT(times[-1]).value\n",
    "            ##fi\n",
    "        ###k\n",
    "    ###j\n",
    "    \n",
    "    if return_kin:\n",
    "        return act0, actp, end_kin\n",
    "    else:\n",
    "        return act0, actp\n",
    "    ##ie\n",
    "#def\n",
    "\n",
    "def hist_df(df0, dfp, vR_low, vR_hi, vT_low, vT_hi, log=False):\n",
    "    \n",
    "    ## Make the original distribution function\n",
    "    img_arr1 = np.rot90( df0/np.max(df0) )\n",
    "    if log:\n",
    "        img1 = ax1.imshow(np.log10(img_arr1), interpolation='nearest',\n",
    "                            extent=[vR_low, vR_hi, vT_low, vT_hi],\n",
    "                            cmap='viridis', vmax=0, vmin=-3)\n",
    "        cbar1 = plt.colorbar(img1, ax=ax1)\n",
    "        cbar1.set_label(r'$\\log [f/f_{max}]$', fontsize=16)\n",
    "    else:\n",
    "        img1 = ax1.imshow(img_arr1, interpolation='nearest',\n",
    "                            extent=[vR_low, vR_hi, vT_low, vT_hi],\n",
    "                            cmap='viridis', vmax=1, vmin=0)\n",
    "        cbar1 = plt.colorbar(img1, ax=ax1)\n",
    "        cbar1.set_label(r'$f/f_{max}$', fontsize=16)\n",
    "    ##ie\n",
    "\n",
    "    # Decorate\n",
    "    ax1.set_xlabel(r'$V_{R}$ [km/s]', fontsize=14)\n",
    "    ax1.set_ylabel(r'$V_{\\phi}$ [km/s]', fontsize=14)\n",
    "    ax1.set_title('MWPotential2014')\n",
    "\n",
    "\n",
    "    ## Make the triaxial distribution function\n",
    "    img_arr2 = np.rot90( dfp/np.max(dfp) )\n",
    "    \n",
    "    if log:\n",
    "        img2 = ax2.imshow(np.log10(img_arr2), interpolation='nearest',\n",
    "                            extent=[vR_low, vR_hi, vT_low, vT_hi],\n",
    "                            cmap='viridis', vmax=0, vmin=-3)\n",
    "        cbar2 = plt.colorbar(img2, ax=ax2)\n",
    "        cbar2.set_label(r'$\\log [f/f_{max}]$', fontsize=16)\n",
    "    else:\n",
    "        img2 = ax2.imshow(img_arr2, interpolation='nearest',\n",
    "                            extent=[vR_low, vR_hi, vT_low, vT_hi],\n",
    "                            cmap='viridis', vmax=1, vmin=0)\n",
    "        cbar2 = plt.colorbar(img2, ax=ax2)\n",
    "        cbar2.set_label(r'$f/f_{max}$', fontsize=16)\n",
    "\n",
    "    # Decorate\n",
    "    ax2.set_xlabel(r'$V_{R}$ [km/s]', fontsize=14)\n",
    "    ax2.set_ylabel(r'$V_{\\phi}$ [km/s]', fontsize=14)\n",
    "    ax2.set_title('Triaxial')\n",
    "\n",
    "    return fig, ax1, ax2, cbar1, cbar2\n",
    "#def\n",
    "\n",
    "def hist_act(act, vR_low, vR_hi, vT_low, vT_hi, cbar_labels):\n",
    "    \n",
    "    # Loop over the three actions, then over perturbed and unperturbed.\n",
    "    for i in range(3):\n",
    "        \n",
    "        img_arr = np.rot90( act[i] )\n",
    "        img = axs[i].imshow(img_arr, interpolation='nearest',\n",
    "            extent=[vR_low, vR_hi, vT_low, vT_hi],\n",
    "            cmap='Blues')\n",
    "        \n",
    "        cbar = plt.colorbar(img, ax=axs[i])\n",
    "        cbar.set_label(cbar_labels[i])\n",
    "        axs[i].set_ylabel(r'$V_{\\phi}$ [km/s]')\n",
    "        axs[i].set_xlabel(r'$V_{R}$ [km/s]')\n",
    "        ###j\n",
    "    ###i\n",
    "    return fig, axs\n",
    "#def"
   ]
  },
  {
   "cell_type": "markdown",
   "metadata": {},
   "source": [
    "## Potential and Distribution Function"
   ]
  },
  {
   "cell_type": "code",
   "execution_count": 6,
   "metadata": {},
   "outputs": [],
   "source": [
    "### Make MWPotential2014\n",
    "mwpot = potential.MWPotential2014\n",
    "\n",
    "### Make the triaxial halo\n",
    "trihalo = ast1501.potential.make_MWPotential2014_triaxialNFW(halo_b=2.0, halo_phi=0.0, halo_c=1.0)\n",
    "\n",
    "### Make MWPotential2014 with DSW around the halo and triaxial halo\n",
    "tripot_grow = ast1501.potential.make_tripot_dsw(trihalo=trihalo, tform=tform, tsteady=tsteady)\n",
    "potential.turn_physical_off(tripot_grow)"
   ]
  },
  {
   "cell_type": "code",
   "execution_count": 7,
   "metadata": {},
   "outputs": [],
   "source": [
    "## Make the quasi-isothermal distribution function. See notebook #3 for the velocity scales.\n",
    "\n",
    "# Velocity dispersions in km/s\n",
    "sigma_vR = 46/1.5\n",
    "sigma_vT = 40/1.5\n",
    "sigma_vZ = 28/1.5\n",
    "\n",
    "# Action angle coordinates and the DF\n",
    "qdf_aA= actionAngleAdiabatic(pot=potential.MWPotential2014, c=True)\n",
    "qdf = df.quasiisothermaldf( hr= 2*apu.kpc,\n",
    "                            sr= sigma_vR*(apu.km/apu.s),\n",
    "                            sz= sigma_vZ*(apu.km/apu.s),\n",
    "                            hsr= 9.8*(apu.kpc),\n",
    "                            hsz= 7.6*(apu.kpc),\n",
    "                            pot= potential.MWPotential2014, \n",
    "                            aA= qdf_aA)"
   ]
  },
  {
   "cell_type": "markdown",
   "metadata": {},
   "source": [
    "# Trial 1: Inner halo\n",
    "$R=16$ kpc, $z$=0"
   ]
  },
  {
   "cell_type": "code",
   "execution_count": 63,
   "metadata": {},
   "outputs": [
    {
     "name": "stdout",
     "output_type": "stream",
     "text": [
      "550 independent velocities\n",
      "25 Between vR=[-123.0,117.0]\n",
      "25 Between vR=[103.0,313.0]\n",
      "\n",
      "\n",
      "[-122.66666667 -112.66666667 -102.66666667  -92.66666667  -82.66666667\n",
      "  -72.66666667  -62.66666667  -52.66666667  -42.66666667  -32.66666667\n",
      "  -22.66666667  -12.66666667   -2.66666667    7.33333333   17.33333333\n",
      "   27.33333333   37.33333333   47.33333333   57.33333333   67.33333333\n",
      "   77.33333333   87.33333333   97.33333333  107.33333333  117.33333333]\n",
      "[103.33333333 113.33333333 123.33333333 133.33333333 143.33333333\n",
      " 153.33333333 163.33333333 173.33333333 183.33333333 193.33333333\n",
      " 203.33333333 213.33333333 223.33333333 233.33333333 243.33333333\n",
      " 253.33333333 263.33333333 273.33333333 283.33333333 293.33333333\n",
      " 303.33333333 313.33333333]\n",
      "\n",
      "\n"
     ]
    },
    {
     "data": {
      "application/vnd.jupyter.widget-view+json": {
       "model_id": "59aa918febd943198cf78704a5434ad8",
       "version_major": 2,
       "version_minor": 0
      },
      "text/plain": [
       "A Jupyter Widget"
      ]
     },
     "metadata": {},
     "output_type": "display_data"
    },
    {
     "name": "stdout",
     "output_type": "stream",
     "text": [
      "\n",
      "All done\n",
      "31.7 s for auto evaluator\n"
     ]
    }
   ],
   "source": [
    "# Set velocity deltas and range\n",
    "dvT = 10.\n",
    "dvR = 10.\n",
    "vR_low = -4*sigma_vR\n",
    "vR_hi = 4*sigma_vR\n",
    "vT_low = -4*sigma_vT+210\n",
    "vT_hi = 4*sigma_vT+210\n",
    "\n",
    "# Generate the velocity distribution and DF arrays\n",
    "df0, dfp, vR_range, vT_range = gen_vRvT_1D(dvT, dvR, vR_low, vR_hi, vT_low, vT_hi)\n",
    "\n",
    "# Declare the orbit parameters\n",
    "vxvv = [16.*apu.kpc, \n",
    "        0, # Leave blank, will be set in loop\n",
    "        0, # Leave blank, will be set in loop\n",
    "        0.*apu.kpc,\n",
    "        0.*apu.km/apu.s,\n",
    "        0.*apu.radian]\n",
    "\n",
    "# Evaluate the DF\n",
    "df0, dfp = eval_df(vxvv, times, tripot_grow, vR_range, vT_range, df0, dfp  )"
   ]
  },
  {
   "cell_type": "code",
   "execution_count": 88,
   "metadata": {},
   "outputs": [
    {
     "name": "stdout",
     "output_type": "stream",
     "text": [
      "All done\n",
      "40.2 s for auto evaluator perturbed\n",
      "All done\n",
      "0.3 s for auto evaluator perturbed\n"
     ]
    }
   ],
   "source": [
    "importlib.reload(ast1501.df)\n",
    "\n",
    "# Do the auto evaluator\n",
    "R_z_phi = [16,0,0]\n",
    "\n",
    "dfp_auto = np.zeros_like(dfp)\n",
    "df0_auto = np.zeros_like(df0)\n",
    "\n",
    "t1 = time.time()\n",
    "dfp_auto = ast1501.df.evaluate_df_adaptive_vrvt(R_z_phi, times, tripot_grow, qdf, vR_range, vT_range, \n",
    "                                                dfp_auto, threshold=0.0001)\n",
    "t2 = time.time()\n",
    "print(str(round(t2-t1,1))+' s for auto evaluator perturbed')\n",
    "\n",
    "t1 = time.time()\n",
    "df0_auto = ast1501.df.evaluate_df_adaptive_vrvt(R_z_phi, times, tripot_grow, qdf, vR_range, vT_range, df0_auto, \n",
    "                                                compute_unperturbed=True, threshold=0.001)\n",
    "t2 = time.time()\n",
    "print(str(round(t2-t1,1))+' s for auto evaluator perturbed')"
   ]
  },
  {
   "cell_type": "code",
   "execution_count": 89,
   "metadata": {},
   "outputs": [
    {
     "name": "stdout",
     "output_type": "stream",
     "text": [
      "/Users/JamesLane/Software/Python/anaconda3/envs/ast1501-dev/lib/python3.6/site-packages/ipykernel_launcher.py:90: RuntimeWarning: divide by zero encountered in log10\n",
      "\n"
     ]
    },
    {
     "data": {
      "image/png": "[encoded data removed]",
      "text/plain": [
       "<matplotlib.figure.Figure at 0x1a1f449828>"
      ]
     },
     "metadata": {
      "image/png": {
       "height": 278,
       "width": 811
      }
     },
     "output_type": "display_data"
    },
    {
     "name": "stdout",
     "output_type": "stream",
     "text": [
      "/Users/JamesLane/Software/Python/anaconda3/envs/ast1501-dev/lib/python3.6/site-packages/ipykernel_launcher.py:113: RuntimeWarning: divide by zero encountered in log10\n",
      "\n"
     ]
    },
    {
     "data": {
      "image/png": "[encoded data removed]",
      "text/plain": [
       "<matplotlib.figure.Figure at 0x1a1dc63780>"
      ]
     },
     "metadata": {
      "image/png": {
       "height": 278,
       "width": 811
      }
     },
     "output_type": "display_data"
    }
   ],
   "source": [
    "# Make the figure\n",
    "fig = plt.figure( figsize=(14,4) )\n",
    "ax1 = fig.add_subplot(121)\n",
    "ax2 = fig.add_subplot(122)\n",
    "\n",
    "# Plot\n",
    "fig, ax1, ax2, cbar1, cbar2 = hist_df(df0, dfp, vR_low, vR_hi, vT_low, vT_hi, log=True)\n",
    "# ax1.grid(color='w', linestyle='-', linewidth=1)\n",
    "# ax2.grid(color='w', linestyle='-', linewidth=1)\n",
    "plt.show()\n",
    "plt.close('all')\n",
    "\n",
    "# Make the figure\n",
    "fig = plt.figure( figsize=(14,4) )\n",
    "ax1 = fig.add_subplot(121)\n",
    "ax2 = fig.add_subplot(122)\n",
    "\n",
    "# Plot\n",
    "fig, ax1, ax2, cbar1, cbar2 = hist_df(df0_auto, dfp_auto, vR_low, vR_hi, vT_low, vT_hi, log=True)\n",
    "# ax1.grid(color='w', linestyle='-', linewidth=1)\n",
    "# ax2.grid(color='w', linestyle='-', linewidth=1)\n",
    "plt.show()\n",
    "plt.close('all')\n",
    "\n",
    "# No output\n",
    "pass;"
   ]
  },
  {
   "cell_type": "code",
   "execution_count": 90,
   "metadata": {},
   "outputs": [
    {
     "name": "stdout",
     "output_type": "stream",
     "text": [
      "[382107.49534554663, -5.3791631814799354e-11, 198.87925544185663, 14.114777691805312, 10.085038510443699]\n",
      "[382020.8586557509, 0.003623066771314026, 198.88864344628476, 14.100620344696031, 10.062963823889916]\n",
      "\n",
      "\n",
      "[563648.4891849399, -0.612818540151444, 188.85961359999143, 23.72610800786477, 28.295416974511802]\n",
      "[501151.3779853511, 0.027679654199313612, 179.68079634173864, 19.42481711331217, 9.51574025802697]\n"
     ]
    }
   ],
   "source": [
    "importlib.reload(ast1501.df)\n",
    "\n",
    "moments0 = ast1501.df.calculate_df_vmoments(df0, vR_range, vT_range, dvR, dvT)\n",
    "momentsp = ast1501.df.calculate_df_vmoments(dfp, vR_range, vT_range, dvR, dvT)\n",
    "\n",
    "moments0_auto = ast1501.df.calculate_df_vmoments(df0_auto, vR_range, vT_range, dvR, dvT)\n",
    "momentsp_auto = ast1501.df.calculate_df_vmoments(dfp_auto, vR_range, vT_range, dvR, dvT)\n",
    "\n",
    "print(moments0)\n",
    "print(moments0_auto)\n",
    "print('\\n')\n",
    "print(momentsp)\n",
    "print(momentsp_auto)"
   ]
  },
  {
   "cell_type": "code",
   "execution_count": null,
   "metadata": {},
   "outputs": [],
   "source": []
  }
 ],
 "metadata": {
  "kernelspec": {
   "display_name": "Python 3",
   "language": "python",
   "name": "python3"
  },
  "language_info": {
   "codemirror_mode": {
    "name": "ipython",
    "version": 3
   },
   "file_extension": ".py",
   "mimetype": "text/x-python",
   "name": "python",
   "nbconvert_exporter": "python",
   "pygments_lexer": "ipython3",
   "version": "3.6.3"
  }
 },
 "nbformat": 4,
 "nbformat_minor": 2
}
