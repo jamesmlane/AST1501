{
 "cells": [
  {
   "cell_type": "code",
   "execution_count": 1,
   "metadata": {
    "collapsed": true
   },
   "outputs": [],
   "source": [
    "# ----------------------------------------------------------------------------\n",
    "#\n",
    "# TITLE - triaxial_potential_DF.ipynb\n",
    "# AUTHOR - James Lane\n",
    "# PROJECT - AST 1501\n",
    "#\n",
    "# ----------------------------------------------------------------------------\n",
    "#\n",
    "# Docstrings and metadata:\n",
    "'''\n",
    "Evaluate the DF of the triaxial MW potential by integrating orbits and evaluating the \n",
    "DF in a known system.\n",
    "'''\n",
    "\n",
    "__author__ = \"James Lane\""
   ]
  },
  {
   "cell_type": "code",
   "execution_count": 2,
   "metadata": {
    "collapsed": true
   },
   "outputs": [],
   "source": [
    "## Imports\n",
    "\n",
    "## Basic\n",
    "import numpy as np\n",
    "import sys, os, pdb\n",
    "import copy\n",
    "import time\n",
    "\n",
    "## Plotting\n",
    "import matplotlib\n",
    "from matplotlib import pyplot as plt\n",
    "from matplotlib import animation\n",
    "# from matplotlib.backends.backend_pdf import PdfPages\n",
    "# from matplotlib import colors\n",
    "from matplotlib import cm\n",
    "# import aplpy\n",
    "\n",
    "## Astropy\n",
    "# from astropy.io import fits\n",
    "# from astropy.coordinates import SkyCoord\n",
    "# from astropy import table\n",
    "from astropy import units as apu\n",
    "# from astropy import wcs\n",
    "\n",
    "## galpy\n",
    "from galpy import orbit\n",
    "from galpy import potential\n",
    "from galpy import df\n",
    "from galpy.actionAngle import actionAngleAdiabatic\n",
    "from galpy.util import bovy_coords as gpcoords\n",
    "from galpy.util import bovy_conversion as gpconv\n",
    "\n",
    "## Add project-specific package. Assume relative location\n",
    "sys.path.insert(0, os.path.abspath('../../src') )\n",
    "import ast1501.potential"
   ]
  },
  {
   "cell_type": "code",
   "execution_count": 3,
   "metadata": {
    "collapsed": true
   },
   "outputs": [],
   "source": [
    "%matplotlib inline"
   ]
  },
  {
   "cell_type": "markdown",
   "metadata": {},
   "source": [
    "## Keywords"
   ]
  },
  {
   "cell_type": "code",
   "execution_count": 4,
   "metadata": {
    "collapsed": true
   },
   "outputs": [],
   "source": [
    "## Halo evolution\n",
    "t_evolve = 10 # Gyr\n",
    "tform = -9 # Gyr ago\n",
    "tsteady = 8 # Gyr after formation"
   ]
  },
  {
   "cell_type": "markdown",
   "metadata": {},
   "source": [
    "## Make the potential"
   ]
  },
  {
   "cell_type": "code",
   "execution_count": 5,
   "metadata": {
    "collapsed": true
   },
   "outputs": [],
   "source": [
    "## Get MWPotential2014 and construct the potential\n",
    "pot_parms = ast1501.potential.get_MWPotential2014()\n",
    "mwbulge_alpha, mwbulge_rc, mwbulge_amp, mwdisk_a, mwdisk_b, mwdisk_amp, mwhalo_a, mwhalo_amp = pot_parms\n",
    "\n",
    "# Make the potentials\n",
    "mwbulge = potential.PowerSphericalPotentialwCutoff(amp=mwbulge_amp, alpha=mwbulge_alpha, rc=mwbulge_rc)\n",
    "mwbulge.turn_physical_off()\n",
    "mwdisk = potential.MiyamotoNagaiPotential(amp=mwdisk_amp, a=mwdisk_a, b=mwdisk_b)\n",
    "mwdisk.turn_physical_off()\n",
    "mwhalo = potential.NFWPotential(amp=mwhalo_amp, a=mwhalo_a)\n",
    "mwhalo.turn_physical_off()\n",
    "\n",
    "# Make the negative amplitude NFW and wrap it\n",
    "mwhalo_rev = potential.NFWPotential(amp=-1*mwhalo_amp,\n",
    "                                    a=mwhalo_a)\n",
    "mwhalo_rev_dsw = potential.DehnenSmoothWrapperPotential(pot=mwhalo_rev, tform=tform*apu.Gyr, \n",
    "                                                        tsteady=tsteady*apu.Gyr)\n",
    "mwhalo_rev_dsw.turn_physical_off()\n",
    "\n",
    "# Make MWPotential2014\n",
    "mwpot = [mwhalo, mwdisk, mwbulge]"
   ]
  },
  {
   "cell_type": "markdown",
   "metadata": {},
   "source": [
    "## Make the distribution function"
   ]
  },
  {
   "cell_type": "code",
   "execution_count": 6,
   "metadata": {
    "collapsed": true
   },
   "outputs": [],
   "source": [
    "## Make the quasi-isothermal distribution function. See notebook #3 for the velocity scales.\n",
    "\n",
    "# Velocity dispersions in km/s\n",
    "sigma_vR = 46/1.5\n",
    "sigma_vT = 40/1.5\n",
    "sigma_vZ = 28/1.5\n",
    "\n",
    "# Action angle coordinates and the DF\n",
    "qdf_aA= actionAngleAdiabatic(pot=potential.MWPotential2014, c=True)\n",
    "qdf = df.quasiisothermaldf( hr= 2*apu.kpc,\n",
    "                            sr= sigma_vR*(apu.km/apu.s),\n",
    "                            sz= sigma_vZ*(apu.km/apu.s),\n",
    "                            hsr= 9.8*(apu.kpc),\n",
    "                            hsz= 7.6*(apu.kpc),\n",
    "                            pot= potential.MWPotential2014, \n",
    "                            aA= qdf_aA)"
   ]
  },
  {
   "cell_type": "markdown",
   "metadata": {},
   "source": [
    "# Perform the integration over values of Phi"
   ]
  },
  {
   "cell_type": "code",
   "execution_count": 7,
   "metadata": {
    "collapsed": true
   },
   "outputs": [],
   "source": [
    "## Make the halo parameter arrays\n",
    "\n",
    "# Make a 1-D grid of halo values to test.\n",
    "phi_range = np.linspace(0, np.pi/2, 5)\n",
    "\n",
    "# The times over which each orbit will be integrated\n",
    "times = -np.array([0,t_evolve]) * apu.Gyr"
   ]
  },
  {
   "cell_type": "code",
   "execution_count": 8,
   "metadata": {},
   "outputs": [
    {
     "name": "stdout",
     "output_type": "stream",
     "text": [
      "480 independent velocities\n"
     ]
    }
   ],
   "source": [
    "# Now make the grid for our velocities, which will span 2sigma (approx) in each of R,T,Z velocities\n",
    "# Manually set ranges for clean dV\n",
    "dvT = 10.\n",
    "dvR = 10.\n",
    "vR_low = -120\n",
    "vR_hi = 120\n",
    "vT_low = -100\n",
    "vT_hi = 100\n",
    "vR_range = np.arange( vR_low, vR_hi, dvR )\n",
    "vT_range = np.arange( vT_low, vT_hi, dvT )+210 # Plus rotational velocity minus 10 for Assym. Drift.\n",
    "\n",
    "# This goes along with a grid of distribution function values. The perturbed array will have one \n",
    "# dimension for the changing halo parameters. The unperturbed DF will not change, so only 2D\n",
    "dfp = np.zeros((len(phi_range),len(vR_range),len(vT_range)))\n",
    "df0 = np.zeros((len(vR_range),len(vT_range)))\n",
    "\n",
    "print( str(len(vR_range)*len(vT_range))+' independent velocities' )"
   ]
  },
  {
   "cell_type": "code",
   "execution_count": 9,
   "metadata": {},
   "outputs": [
    {
     "name": "stdout",
     "output_type": "stream",
     "text": [
      "/Users/JamesLane/Software/Python/anaconda3/envs/ast1501-dev/lib/python3.6/site-packages/galpy/df/quasiisothermaldf.py:281: RuntimeWarning: overflow encountered in exp\n",
      "  *numpy.exp(-kappa*jr*srm2)\n",
      "\n",
      "/Users/JamesLane/Software/Python/anaconda3/envs/ast1501-dev/lib/python3.6/site-packages/galpy/df/quasiisothermaldf.py:281: RuntimeWarning: invalid value encountered in multiply\n",
      "  *numpy.exp(-kappa*jr*srm2)\n",
      "\n",
      "Took 717.24 s total\n",
      "Orbit integration took 709.47 s\n",
      "DF evaluation took 4.75 s\n",
      "Took 1.49 s per velocity\n"
     ]
    }
   ],
   "source": [
    "## Now loop over all of the orbit possibilities, evaluate them in a triaxial NFW which evolves backwards to \n",
    "## become a smooth NFW\n",
    "\n",
    "# Timing\n",
    "ot_total = 0\n",
    "oit_total = 0\n",
    "dft_total = 0\n",
    "\n",
    "tott_start = time.time()\n",
    "\n",
    "for i in range( len(phi_range) ):\n",
    "\n",
    "    # Make the halo for this parameter and wrap it\n",
    "    trihalo = potential.TriaxialNFWPotential(amp = mwhalo_amp, a = mwhalo_a, b = 2.0, pa = phi_range[i])\n",
    "    trihalo_dsw = potential.DehnenSmoothWrapperPotential(pot=trihalo, tform=tform*apu.Gyr, tsteady=tsteady*apu.Gyr)\n",
    "    trihalo_dsw.turn_physical_off()\n",
    "    \n",
    "    # Make the triaxial potential\n",
    "    tripot_grow = [mwhalo, mwhalo_rev_dsw, trihalo_dsw, mwdisk, mwbulge]\n",
    "    \n",
    "    # Loop over the velocities\n",
    "    for j in range( len(vR_range) ):\n",
    "        for k in range( len(vT_range) ):\n",
    "        \n",
    "            # Make the orbit\n",
    "            o = orbit.Orbit(vxvv=[8.*apu.kpc, \n",
    "                                  vR_range[j]*apu.km/apu.s, \n",
    "                                  vT_range[k]*apu.km/apu.s, \n",
    "                                  0.*apu.kpc,\n",
    "                                  0.*apu.km/apu.s,\n",
    "                                  0.*apu.radian])\n",
    "            \n",
    "            # Evaluate the unperturbed distribution function if this is the first run-through\n",
    "            if i == 0:            \n",
    "                df0[j,k] = qdf(o)\n",
    "            ##fi\n",
    "            \n",
    "            oit_start = time.time()\n",
    "            o.integrate(times, tripot_grow)\n",
    "            oit_end = time.time()\n",
    "        \n",
    "            # Now evaluate the perturbed distribution function\n",
    "            dft_start = time.time()\n",
    "            dfp[i,j,k] = qdf(o(times[1]))\n",
    "            dft_end = time.time()\n",
    "        \n",
    "            oit_total += (oit_end-oit_start)\n",
    "            dft_total += (dft_end-dft_start)\n",
    "        \n",
    "tott_end = time.time()\n",
    "\n",
    "# Display timing statistics\n",
    "print('Took '+str(round(tott_end-tott_start,2))+' s total')\n",
    "print('Orbit integration took '+str(round(oit_total,2))+' s')\n",
    "print('DF evaluation took '+str(round(dft_total,2))+' s')\n",
    "print('Took '+str(round((tott_end-tott_start)/(len(vR_range)*len(vT_range)),2))+' s per velocity')"
   ]
  },
  {
   "cell_type": "markdown",
   "metadata": {},
   "source": [
    "## Plotting\n",
    "### First show the distribution function"
   ]
  },
  {
   "cell_type": "code",
   "execution_count": 68,
   "metadata": {},
   "outputs": [
    {
     "data": {
      "image/png": "[encoded data removed]",
      "text/plain": [
       "<matplotlib.figure.Figure at 0x1a1a8e24a8>"
      ]
     },
     "metadata": {},
     "output_type": "display_data"
    }
   ],
   "source": [
    "fig = plt.figure( figsize=(6,12) )\n",
    "axs = fig.subplots( nrows=len(phi_range)+1, ncols=1)\n",
    "\n",
    "# Loop over all halo parameters\n",
    "for i in range( len(phi_range)+1 ):\n",
    "    \n",
    "    if i == 0:\n",
    "        img_arr = np.rot90( df0/np.max(df0) )\n",
    "        img = axs[0].imshow(img_arr, interpolation='nearest',\n",
    "                            extent=[-2*sigma_vR, 2*sigma_vR+1, 210-2*sigma_vT, 210+2*sigma_vT+1],\n",
    "                            cmap='Blues', vmax=1, vmin=0)\n",
    "\n",
    "        # Decorate\n",
    "        #cbar = plt.colorbar(img)\n",
    "\n",
    "        # Adjust\n",
    "        axs[0].set_ylabel(r'$V_{\\phi}$ [km/s]')\n",
    "        axs[0].tick_params(direction='in', top='on', right='on', labelbottom='off')\n",
    "        #cbar.set_label('Log[f/fmax]')\n",
    "    \n",
    "    else:\n",
    "        img_arr = np.rot90( dfp[i-1]/np.max(dfp[i-1]) )\n",
    "        img = axs[i].imshow(img_arr, interpolation='nearest',\n",
    "                            extent=[-2*sigma_vR, 2*sigma_vR+1, 210-2*sigma_vT, 210+2*sigma_vT+1],\n",
    "                            cmap='Blues', vmax=1, vmin=0)\n",
    "\n",
    "        # Decorate\n",
    "        #cbar = plt.colorbar(img)\n",
    "\n",
    "        # Adjust\n",
    "        axs[i].set_ylabel(r'$V_{\\phi}$ [km/s]')\n",
    "        #cbar.set_label('Log[f/fmax]')\n",
    "\n",
    "        if i != (len(phi_range)):\n",
    "            axs[i].tick_params(direction='in', top='on', right='on', labelbottom='off')\n",
    "        else:\n",
    "            axs[i].tick_params(direction='in', top='on', right='on')\n",
    "            axs[i].set_xlabel(r'$V_{R}$ [km/s]')\n",
    "###i\n",
    "\n",
    "fig.subplots_adjust(hspace=0)\n",
    "plt.show()"
   ]
  },
  {
   "cell_type": "markdown",
   "metadata": {},
   "source": [
    "## Now show the change in the moments with the change in phi"
   ]
  },
  {
   "cell_type": "code",
   "execution_count": 66,
   "metadata": {},
   "outputs": [
    {
     "data": {
      "image/png": "[encoded data removed]",
      "text/plain": [
       "<matplotlib.figure.Figure at 0x1a1a90f0f0>"
      ]
     },
     "metadata": {},
     "output_type": "display_data"
    }
   ],
   "source": [
    "dvT = 10.\n",
    "vT_low = -100\n",
    "vT_hi = 100\n",
    "vT_range = np.arange( vT_low, vT_hi, dvT )+210\n",
    "\n",
    "fig = plt.figure( figsize=(8,8) )\n",
    "axs = fig.subplots( nrows=2, ncols=2)\n",
    "\n",
    "# First calculate density and moments for the unperturbed case\n",
    "dens0 = np.sum(df0) * dvR * dvT # Units of 1/kpc**2\n",
    "vR_avg0 = (1/dens0) * np.sum( np.sum(df0, axis=1) * vR_range ) * dvR * dvT\n",
    "vT_avg0 = (1/dens0) * np.sum( np.sum(df0, axis=0) * vT_range ) * dvR * dvT\n",
    "vR_std0 = np.sqrt((1/dens0) * np.sum( np.sum(df0, axis=1) * np.square( vR_avg0 - vR_range ) ) * dvR * dvT)\n",
    "vT_std0 = np.sqrt((1/dens0) * np.sum( np.sum(df0, axis=0) * np.square( vT_avg0 - vT_range ) ) * dvR * dvT)\n",
    "\n",
    "vR_avgp = np.zeros( len(phi_range) )\n",
    "vT_avgp = np.zeros( len(phi_range) )\n",
    "vR_stdp = np.zeros( len(phi_range) )\n",
    "vT_stdp = np.zeros( len(phi_range) )\n",
    "\n",
    "# Loop over all halo parameters\n",
    "for i in range( len(phi_range) ):\n",
    "    \n",
    "    # First calculate the density\n",
    "    densp = np.sum(dfp[i]) * dvR * dvT # Units of 1/kpc**2\n",
    "    \n",
    "    # Now calculate the moments\n",
    "    vR_avgp[i] = (1/densp) * np.sum( np.sum(dfp[i], axis=1) * vR_range ) * dvR * dvT\n",
    "    vT_avgp[i] = (1/densp) * np.sum( np.sum(dfp[i], axis=0) * vT_range ) * dvR * dvT\n",
    "    vR_stdp[i] = np.sqrt((1/densp) * np.sum( np.sum(dfp[i], axis=1) * np.square( vR_avgp[i] - vR_range ) ) * dvR * dvT)\n",
    "    vT_stdp[i] = np.sqrt((1/densp) * np.sum( np.sum(dfp[i], axis=0) * np.square( vT_avgp[i] - vT_range ) ) * dvR * dvT)\n",
    "\n",
    "###i\n",
    "\n",
    "axs[0,0].scatter( phi_range, vR_avgp, color='DodgerBlue', facecolor='None' )\n",
    "axs[0,0].axhline( vR_avg0, linestyle='dashed', color='Black' )\n",
    "axs[0,0].set_xlabel(r'$\\Phi$', fontsize=14)\n",
    "axs[0,0].set_ylabel(r'$\\overline{v_{R}}$', fontsize=14)\n",
    "\n",
    "axs[1,0].scatter( phi_range, vR_stdp, color='DodgerBlue', facecolor='None' )\n",
    "axs[1,0].axhline( vR_std0, linestyle='dashed', color='Black' )\n",
    "axs[1,0].set_xlabel(r'$\\Phi$', fontsize=14)\n",
    "axs[1,0].set_ylabel(r'$\\sigma_{vR}$', fontsize=14)\n",
    "\n",
    "axs[0,1].scatter( phi_range, vT_avgp, color='Red', facecolor='None' )\n",
    "axs[0,1].axhline( vT_avg0, linestyle='dashed', color='Black' )\n",
    "axs[0,1].set_xlabel(r'$\\Phi$', fontsize=14)\n",
    "axs[0,1].set_ylabel(r'$\\overline{v_{T}}$', fontsize=14)\n",
    "\n",
    "axs[1,1].scatter( phi_range, vT_stdp, color='Red', facecolor='None' )\n",
    "axs[1,1].axhline( vT_std0, linestyle='dashed', color='Black' )\n",
    "axs[1,1].set_xlabel(r'$\\Phi$', fontsize=14)\n",
    "axs[1,1].set_ylabel(r'$\\sigma_{vT}$', fontsize=14)\n",
    "\n",
    "fig.subplots_adjust(wspace=0.5)\n",
    "plt.tight_layout\n",
    "plt.show()"
   ]
  },
  {
   "cell_type": "code",
   "execution_count": null,
   "metadata": {
    "collapsed": true
   },
   "outputs": [],
   "source": []
  }
 ],
 "metadata": {
  "kernelspec": {
   "display_name": "Python 3",
   "language": "python",
   "name": "python3"
  },
  "language_info": {
   "codemirror_mode": {
    "name": "ipython",
    "version": 3
   },
   "file_extension": ".py",
   "mimetype": "text/x-python",
   "name": "python",
   "nbconvert_exporter": "python",
   "pygments_lexer": "ipython3",
   "version": "3.6.3"
  }
 },
 "nbformat": 4,
 "nbformat_minor": 2
}
